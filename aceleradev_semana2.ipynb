{
  "nbformat": 4,
  "nbformat_minor": 0,
  "metadata": {
    "kernelspec": {
      "display_name": "Python 3",
      "language": "python",
      "name": "python3"
    },
    "language_info": {
      "codemirror_mode": {
        "name": "ipython",
        "version": 3
      },
      "file_extension": ".py",
      "mimetype": "text/x-python",
      "name": "python",
      "nbconvert_exporter": "python",
      "pygments_lexer": "ipython3",
      "version": "3.8.2"
    },
    "colab": {
      "name": "aceleradev_semana2.ipynb",
      "provenance": [],
      "collapsed_sections": [
        "vrjykUHG3wJ8"
      ]
    }
  },
  "cells": [
    {
      "cell_type": "markdown",
      "metadata": {
        "id": "YcvkQOQa3wI8",
        "colab_type": "text"
      },
      "source": [
        "# AceleraDev Codenation - Semana 2\n",
        "\n",
        "### Data Scientist"
      ]
    },
    {
      "cell_type": "markdown",
      "metadata": {
        "id": "uWPTLqIc3wI9",
        "colab_type": "text"
      },
      "source": [
        "## Manipulando dados"
      ]
    },
    {
      "cell_type": "code",
      "metadata": {
        "id": "w1FqnSCU3wI-",
        "colab_type": "code",
        "colab": {}
      },
      "source": [
        "#Importando os pacotes\n",
        "import pandas as pd\n",
        "import numpy as np"
      ],
      "execution_count": 0,
      "outputs": []
    },
    {
      "cell_type": "code",
      "metadata": {
        "id": "iyr8DVuj3wJC",
        "colab_type": "code",
        "colab": {}
      },
      "source": [
        "#acessando o help dos pacotes\n",
        "pd?"
      ],
      "execution_count": 0,
      "outputs": []
    },
    {
      "cell_type": "markdown",
      "metadata": {
        "id": "zgHLjerL3wJH",
        "colab_type": "text"
      },
      "source": [
        "### Dicionarios"
      ]
    },
    {
      "cell_type": "code",
      "metadata": {
        "id": "GvDNdUlq3wJH",
        "colab_type": "code",
        "colab": {}
      },
      "source": [
        "#Criando um dicionário com os dados\n",
        "dados = {'canal_venda' : ['facebook', 'twitter', 'instagram', 'linkedin', 'facebook'],\n",
        "        'acessos': [100, 200, 300 ,400, 500],\n",
        "        'site': ['site1', 'site1', 'site2', 'site2', 'site3'],\n",
        "        'vendas': [1000.52, 1052.34, 2002, 5000, 300 ]}"
      ],
      "execution_count": 0,
      "outputs": []
    },
    {
      "cell_type": "code",
      "metadata": {
        "id": "j-TT5bcZ3wJK",
        "colab_type": "code",
        "outputId": "43e17b71-2d9d-4ac7-ef0d-04a48f7280cc",
        "colab": {}
      },
      "source": [
        "#para printar o dicionáario\n",
        "dados"
      ],
      "execution_count": 0,
      "outputs": [
        {
          "output_type": "execute_result",
          "data": {
            "text/plain": [
              "{'canal_venda': ['facebook', 'twitter', 'instagram', 'linkedin', 'facebook'],\n",
              " 'acessos': [100, 200, 300, 400, 500],\n",
              " 'site': ['site1', 'site1', 'site2', 'site2', 'site3'],\n",
              " 'vendas': [1000.52, 1052.34, 2002, 5000, 300]}"
            ]
          },
          "metadata": {
            "tags": []
          },
          "execution_count": 7
        }
      ]
    },
    {
      "cell_type": "code",
      "metadata": {
        "id": "dLx-D2Je3wJO",
        "colab_type": "code",
        "outputId": "867f3f1f-e9f5-4019-a4f1-1d9b89ff0b64",
        "colab": {}
      },
      "source": [
        "#verificando o tipo do dicionario\n",
        "type(dados)"
      ],
      "execution_count": 0,
      "outputs": [
        {
          "output_type": "execute_result",
          "data": {
            "text/plain": [
              "dict"
            ]
          },
          "metadata": {
            "tags": []
          },
          "execution_count": 8
        }
      ]
    },
    {
      "cell_type": "code",
      "metadata": {
        "id": "ZIqWzHIT3wJR",
        "colab_type": "code",
        "outputId": "e6016904-cbdd-4a1c-cee3-55bbbda083e4",
        "colab": {}
      },
      "source": [
        "#Acessando as chaves do meu dicionario\n",
        "dados.keys()"
      ],
      "execution_count": 0,
      "outputs": [
        {
          "output_type": "execute_result",
          "data": {
            "text/plain": [
              "dict_keys(['canal_venda', 'acessos', 'site', 'vendas'])"
            ]
          },
          "metadata": {
            "tags": []
          },
          "execution_count": 5
        }
      ]
    },
    {
      "cell_type": "code",
      "metadata": {
        "id": "p4vpEx1d3wJV",
        "colab_type": "code",
        "outputId": "44110b23-e77f-42db-dbda-609b6ac151ac",
        "colab": {}
      },
      "source": [
        "#Acessando uma chave especifica\n",
        "dados['site']"
      ],
      "execution_count": 0,
      "outputs": [
        {
          "output_type": "execute_result",
          "data": {
            "text/plain": [
              "['site1', 'site1', 'site2', 'site2', 'site3']"
            ]
          },
          "metadata": {
            "tags": []
          },
          "execution_count": 10
        }
      ]
    },
    {
      "cell_type": "code",
      "metadata": {
        "id": "iy8H3n3U3wJZ",
        "colab_type": "code",
        "outputId": "890f0e39-9905-4d6e-e3c0-7acfe6cf9a5b",
        "colab": {}
      },
      "source": [
        "#Acessando uma posicao especifica de um dicionario\n",
        "dados['acessos'][2]"
      ],
      "execution_count": 0,
      "outputs": [
        {
          "output_type": "execute_result",
          "data": {
            "text/plain": [
              "300"
            ]
          },
          "metadata": {
            "tags": []
          },
          "execution_count": 16
        }
      ]
    },
    {
      "cell_type": "code",
      "metadata": {
        "id": "h8hZynWD3wJd",
        "colab_type": "code",
        "outputId": "8756099c-750d-4b94-ef5c-40edd10582f5",
        "colab": {}
      },
      "source": [
        "#Acessando uma posicao especifica de um dicionario\n",
        "dados['canal_venda'][2]"
      ],
      "execution_count": 0,
      "outputs": [
        {
          "output_type": "execute_result",
          "data": {
            "text/plain": [
              "'instagram'"
            ]
          },
          "metadata": {
            "tags": []
          },
          "execution_count": 8
        }
      ]
    },
    {
      "cell_type": "code",
      "metadata": {
        "id": "Z_psXeck3wJg",
        "colab_type": "code",
        "outputId": "ff24081c-02e7-4a57-b898-6c58bae7d46c",
        "colab": {}
      },
      "source": [
        "#Acessando uma posicao especifica de um dicionario\n",
        "dados['canal_venda'][:3]"
      ],
      "execution_count": 0,
      "outputs": [
        {
          "output_type": "execute_result",
          "data": {
            "text/plain": [
              "['facebook', 'twitter', 'instagram']"
            ]
          },
          "metadata": {
            "tags": []
          },
          "execution_count": 19
        }
      ]
    },
    {
      "cell_type": "markdown",
      "metadata": {
        "id": "EhLAm1zj3wJk",
        "colab_type": "text"
      },
      "source": [
        "### Listas"
      ]
    },
    {
      "cell_type": "code",
      "metadata": {
        "id": "-3JKSVW93wJm",
        "colab_type": "code",
        "outputId": "7ad0e849-057e-4992-db27-9cb6d6fcaed8",
        "colab": {}
      },
      "source": [
        "type([1,2,3])"
      ],
      "execution_count": 0,
      "outputs": [
        {
          "output_type": "execute_result",
          "data": {
            "text/plain": [
              "list"
            ]
          },
          "metadata": {
            "tags": []
          },
          "execution_count": 21
        }
      ]
    },
    {
      "cell_type": "code",
      "metadata": {
        "id": "oXNUDduP3wJp",
        "colab_type": "code",
        "colab": {}
      },
      "source": [
        "#Criando uma lista\n",
        "lista = [200, 200 , 300 ,800, 200]"
      ],
      "execution_count": 0,
      "outputs": []
    },
    {
      "cell_type": "code",
      "metadata": {
        "id": "tjCA2APa3wJs",
        "colab_type": "code",
        "outputId": "d2b61e42-4f04-410f-bb37-d50dbdf74c63",
        "colab": {}
      },
      "source": [
        "#printando a lista\n",
        "lista"
      ],
      "execution_count": 0,
      "outputs": [
        {
          "output_type": "execute_result",
          "data": {
            "text/plain": [
              "[200, 200, 300, 800, 200]"
            ]
          },
          "metadata": {
            "tags": []
          },
          "execution_count": 23
        }
      ]
    },
    {
      "cell_type": "code",
      "metadata": {
        "id": "HRkAo0o13wJu",
        "colab_type": "code",
        "outputId": "1f6e3f33-9f4c-47aa-d25e-a5745285caf3",
        "colab": {}
      },
      "source": [
        "#Vendo valores especificos\n",
        "lista[1]"
      ],
      "execution_count": 0,
      "outputs": [
        {
          "output_type": "execute_result",
          "data": {
            "text/plain": [
              "200"
            ]
          },
          "metadata": {
            "tags": []
          },
          "execution_count": 24
        }
      ]
    },
    {
      "cell_type": "code",
      "metadata": {
        "id": "j2SeVrWP3wJx",
        "colab_type": "code",
        "outputId": "40628f16-f30a-4556-a4e8-38ebe18b38ae",
        "colab": {}
      },
      "source": [
        "#fatia da lista\n",
        "lista[:3]"
      ],
      "execution_count": 0,
      "outputs": [
        {
          "output_type": "execute_result",
          "data": {
            "text/plain": [
              "[200, 200, 300]"
            ]
          },
          "metadata": {
            "tags": []
          },
          "execution_count": 25
        }
      ]
    },
    {
      "cell_type": "code",
      "metadata": {
        "id": "vplbqHGl3wJz",
        "colab_type": "code",
        "colab": {}
      },
      "source": [
        "# Adicionando a lista ao dicionario \n",
        "dados['lista'] = lista"
      ],
      "execution_count": 0,
      "outputs": []
    },
    {
      "cell_type": "code",
      "metadata": {
        "id": "LO8dkNJX3wJ4",
        "colab_type": "code",
        "outputId": "0ad97251-e6a0-47df-efdb-bce7ade24a23",
        "colab": {}
      },
      "source": [
        "dados"
      ],
      "execution_count": 0,
      "outputs": [
        {
          "output_type": "execute_result",
          "data": {
            "text/plain": [
              "{'canal_venda': ['facebook', 'twitter', 'instagram', 'linkedin', 'facebook'],\n",
              " 'acessos': [100, 200, 300, 400, 500],\n",
              " 'site': ['site1', 'site1', 'site2', 'site2', 'site3'],\n",
              " 'vendas': [1000.52, 1052.34, 2002, 5000, 300],\n",
              " 'lista': [200, 200, 300, 800, 200]}"
            ]
          },
          "metadata": {
            "tags": []
          },
          "execution_count": 27
        }
      ]
    },
    {
      "cell_type": "markdown",
      "metadata": {
        "id": "vrjykUHG3wJ8",
        "colab_type": "text"
      },
      "source": [
        "### DataFrames"
      ]
    },
    {
      "cell_type": "code",
      "metadata": {
        "id": "ASXrFV883wJ8",
        "colab_type": "code",
        "outputId": "50ee0547-4e35-4123-b3e4-2b656027271e",
        "colab": {}
      },
      "source": [
        "dados"
      ],
      "execution_count": 0,
      "outputs": [
        {
          "output_type": "execute_result",
          "data": {
            "text/plain": [
              "{'canal_venda': ['facebook', 'twitter', 'instagram', 'linkedin', 'facebook'],\n",
              " 'acessos': [100, 200, 300, 400, 500],\n",
              " 'site': ['site1', 'site1', 'site2', 'site2', 'site3'],\n",
              " 'vendas': [1000.52, 1052.34, 2002, 5000, 300],\n",
              " 'lista': [200, 200, 300, 800, 200]}"
            ]
          },
          "metadata": {
            "tags": []
          },
          "execution_count": 29
        }
      ]
    },
    {
      "cell_type": "code",
      "metadata": {
        "id": "wDFKKQxi3wJ-",
        "colab_type": "code",
        "colab": {}
      },
      "source": [
        "#Criar um data frame a partir de um dict\n",
        "dataframe = pd.DataFrame(dados)"
      ],
      "execution_count": 0,
      "outputs": []
    },
    {
      "cell_type": "code",
      "metadata": {
        "id": "OTyK01ta3wKA",
        "colab_type": "code",
        "outputId": "939a3d49-6036-4421-a46a-4ea17e6722fd",
        "colab": {}
      },
      "source": [
        "#acessando o dataframe\n",
        "dataframe"
      ],
      "execution_count": 0,
      "outputs": [
        {
          "output_type": "execute_result",
          "data": {
            "text/html": [
              "<div>\n",
              "<style scoped>\n",
              "    .dataframe tbody tr th:only-of-type {\n",
              "        vertical-align: middle;\n",
              "    }\n",
              "\n",
              "    .dataframe tbody tr th {\n",
              "        vertical-align: top;\n",
              "    }\n",
              "\n",
              "    .dataframe thead th {\n",
              "        text-align: right;\n",
              "    }\n",
              "</style>\n",
              "<table border=\"1\" class=\"dataframe\">\n",
              "  <thead>\n",
              "    <tr style=\"text-align: right;\">\n",
              "      <th></th>\n",
              "      <th>canal_venda</th>\n",
              "      <th>acessos</th>\n",
              "      <th>site</th>\n",
              "      <th>vendas</th>\n",
              "      <th>lista</th>\n",
              "    </tr>\n",
              "  </thead>\n",
              "  <tbody>\n",
              "    <tr>\n",
              "      <th>0</th>\n",
              "      <td>facebook</td>\n",
              "      <td>100</td>\n",
              "      <td>site1</td>\n",
              "      <td>1000.52</td>\n",
              "      <td>200</td>\n",
              "    </tr>\n",
              "    <tr>\n",
              "      <th>1</th>\n",
              "      <td>twitter</td>\n",
              "      <td>200</td>\n",
              "      <td>site1</td>\n",
              "      <td>1052.34</td>\n",
              "      <td>200</td>\n",
              "    </tr>\n",
              "    <tr>\n",
              "      <th>2</th>\n",
              "      <td>instagram</td>\n",
              "      <td>300</td>\n",
              "      <td>site2</td>\n",
              "      <td>2002.00</td>\n",
              "      <td>300</td>\n",
              "    </tr>\n",
              "    <tr>\n",
              "      <th>3</th>\n",
              "      <td>linkedin</td>\n",
              "      <td>400</td>\n",
              "      <td>site2</td>\n",
              "      <td>5000.00</td>\n",
              "      <td>800</td>\n",
              "    </tr>\n",
              "    <tr>\n",
              "      <th>4</th>\n",
              "      <td>facebook</td>\n",
              "      <td>500</td>\n",
              "      <td>site3</td>\n",
              "      <td>300.00</td>\n",
              "      <td>200</td>\n",
              "    </tr>\n",
              "  </tbody>\n",
              "</table>\n",
              "</div>"
            ],
            "text/plain": [
              "  canal_venda  acessos   site   vendas  lista\n",
              "0    facebook      100  site1  1000.52    200\n",
              "1     twitter      200  site1  1052.34    200\n",
              "2   instagram      300  site2  2002.00    300\n",
              "3    linkedin      400  site2  5000.00    800\n",
              "4    facebook      500  site3   300.00    200"
            ]
          },
          "metadata": {
            "tags": []
          },
          "execution_count": 31
        }
      ]
    },
    {
      "cell_type": "code",
      "metadata": {
        "id": "FPMXKZO03wKC",
        "colab_type": "code",
        "outputId": "28ba0140-644a-41a4-ff6a-d94953387d67",
        "colab": {}
      },
      "source": [
        "#printando os primeiros casos do dataframe\n",
        "dataframe.head(2)"
      ],
      "execution_count": 0,
      "outputs": [
        {
          "output_type": "execute_result",
          "data": {
            "text/html": [
              "<div>\n",
              "<style scoped>\n",
              "    .dataframe tbody tr th:only-of-type {\n",
              "        vertical-align: middle;\n",
              "    }\n",
              "\n",
              "    .dataframe tbody tr th {\n",
              "        vertical-align: top;\n",
              "    }\n",
              "\n",
              "    .dataframe thead th {\n",
              "        text-align: right;\n",
              "    }\n",
              "</style>\n",
              "<table border=\"1\" class=\"dataframe\">\n",
              "  <thead>\n",
              "    <tr style=\"text-align: right;\">\n",
              "      <th></th>\n",
              "      <th>canal_venda</th>\n",
              "      <th>acessos</th>\n",
              "      <th>site</th>\n",
              "      <th>vendas</th>\n",
              "      <th>lista</th>\n",
              "    </tr>\n",
              "  </thead>\n",
              "  <tbody>\n",
              "    <tr>\n",
              "      <th>0</th>\n",
              "      <td>facebook</td>\n",
              "      <td>100</td>\n",
              "      <td>site1</td>\n",
              "      <td>1000.52</td>\n",
              "      <td>200</td>\n",
              "    </tr>\n",
              "    <tr>\n",
              "      <th>1</th>\n",
              "      <td>twitter</td>\n",
              "      <td>200</td>\n",
              "      <td>site1</td>\n",
              "      <td>1052.34</td>\n",
              "      <td>200</td>\n",
              "    </tr>\n",
              "  </tbody>\n",
              "</table>\n",
              "</div>"
            ],
            "text/plain": [
              "  canal_venda  acessos   site   vendas  lista\n",
              "0    facebook      100  site1  1000.52    200\n",
              "1     twitter      200  site1  1052.34    200"
            ]
          },
          "metadata": {
            "tags": []
          },
          "execution_count": 35
        }
      ]
    },
    {
      "cell_type": "code",
      "metadata": {
        "id": "miVoKziE3wKG",
        "colab_type": "code",
        "outputId": "cd3cd5ba-8fef-4bfc-e8c6-42d46bf04c0f",
        "colab": {}
      },
      "source": [
        "#Verificando o formato do dataframe\n",
        "dataframe.shape"
      ],
      "execution_count": 0,
      "outputs": [
        {
          "output_type": "execute_result",
          "data": {
            "text/plain": [
              "(5, 5)"
            ]
          },
          "metadata": {
            "tags": []
          },
          "execution_count": 36
        }
      ]
    },
    {
      "cell_type": "code",
      "metadata": {
        "id": "Npj9lRwi3wKJ",
        "colab_type": "code",
        "colab": {}
      },
      "source": [
        "QQRNOME = dataframe"
      ],
      "execution_count": 0,
      "outputs": []
    },
    {
      "cell_type": "code",
      "metadata": {
        "id": "XSeTMCQ13wKL",
        "colab_type": "code",
        "outputId": "9dc14fa2-56bd-43ec-ffda-6711374678ed",
        "colab": {}
      },
      "source": [
        "QQRNOME.shape"
      ],
      "execution_count": 0,
      "outputs": [
        {
          "output_type": "execute_result",
          "data": {
            "text/plain": [
              "(5, 5)"
            ]
          },
          "metadata": {
            "tags": []
          },
          "execution_count": 38
        }
      ]
    },
    {
      "cell_type": "code",
      "metadata": {
        "id": "TsOKddm63wKN",
        "colab_type": "code",
        "outputId": "36b8f32d-269b-46b5-b9cd-2a5d7d5d42b5",
        "colab": {}
      },
      "source": [
        "type(QQRNOME)"
      ],
      "execution_count": 0,
      "outputs": [
        {
          "output_type": "execute_result",
          "data": {
            "text/plain": [
              "pandas.core.frame.DataFrame"
            ]
          },
          "metadata": {
            "tags": []
          },
          "execution_count": 39
        }
      ]
    },
    {
      "cell_type": "code",
      "metadata": {
        "id": "YgnTT_t23wKP",
        "colab_type": "code",
        "outputId": "fbb6b2ca-6e2c-45d8-e55d-76719988c14a",
        "colab": {}
      },
      "source": [
        "#Verificando o indice do dataframe\n",
        "dataframe.index"
      ],
      "execution_count": 0,
      "outputs": [
        {
          "output_type": "execute_result",
          "data": {
            "text/plain": [
              "RangeIndex(start=0, stop=5, step=1)"
            ]
          },
          "metadata": {
            "tags": []
          },
          "execution_count": 40
        }
      ]
    },
    {
      "cell_type": "code",
      "metadata": {
        "id": "KpULxGfB3wKR",
        "colab_type": "code",
        "outputId": "4292f0e0-bafd-4229-f07d-01ff1c110445",
        "colab": {}
      },
      "source": [
        "#Verificando os tipos dos dados do dataframe\n",
        "dataframe.dtypes"
      ],
      "execution_count": 0,
      "outputs": [
        {
          "output_type": "execute_result",
          "data": {
            "text/plain": [
              "canal_venda     object\n",
              "acessos          int64\n",
              "site            object\n",
              "vendas         float64\n",
              "lista            int64\n",
              "dtype: object"
            ]
          },
          "metadata": {
            "tags": []
          },
          "execution_count": 43
        }
      ]
    },
    {
      "cell_type": "code",
      "metadata": {
        "id": "MSRaYfbG3wKT",
        "colab_type": "code",
        "outputId": "a267f990-4ada-4b3b-dda7-5bc172984341",
        "colab": {}
      },
      "source": [
        "#Verificando se existem valores faltantes\n",
        "dataframe.isna()"
      ],
      "execution_count": 0,
      "outputs": [
        {
          "output_type": "execute_result",
          "data": {
            "text/html": [
              "<div>\n",
              "<style scoped>\n",
              "    .dataframe tbody tr th:only-of-type {\n",
              "        vertical-align: middle;\n",
              "    }\n",
              "\n",
              "    .dataframe tbody tr th {\n",
              "        vertical-align: top;\n",
              "    }\n",
              "\n",
              "    .dataframe thead th {\n",
              "        text-align: right;\n",
              "    }\n",
              "</style>\n",
              "<table border=\"1\" class=\"dataframe\">\n",
              "  <thead>\n",
              "    <tr style=\"text-align: right;\">\n",
              "      <th></th>\n",
              "      <th>canal_venda</th>\n",
              "      <th>acessos</th>\n",
              "      <th>site</th>\n",
              "      <th>vendas</th>\n",
              "      <th>lista</th>\n",
              "    </tr>\n",
              "  </thead>\n",
              "  <tbody>\n",
              "    <tr>\n",
              "      <th>0</th>\n",
              "      <td>False</td>\n",
              "      <td>False</td>\n",
              "      <td>False</td>\n",
              "      <td>False</td>\n",
              "      <td>False</td>\n",
              "    </tr>\n",
              "    <tr>\n",
              "      <th>1</th>\n",
              "      <td>False</td>\n",
              "      <td>False</td>\n",
              "      <td>False</td>\n",
              "      <td>False</td>\n",
              "      <td>False</td>\n",
              "    </tr>\n",
              "    <tr>\n",
              "      <th>2</th>\n",
              "      <td>False</td>\n",
              "      <td>False</td>\n",
              "      <td>False</td>\n",
              "      <td>False</td>\n",
              "      <td>False</td>\n",
              "    </tr>\n",
              "    <tr>\n",
              "      <th>3</th>\n",
              "      <td>False</td>\n",
              "      <td>False</td>\n",
              "      <td>False</td>\n",
              "      <td>False</td>\n",
              "      <td>False</td>\n",
              "    </tr>\n",
              "    <tr>\n",
              "      <th>4</th>\n",
              "      <td>False</td>\n",
              "      <td>False</td>\n",
              "      <td>False</td>\n",
              "      <td>False</td>\n",
              "      <td>False</td>\n",
              "    </tr>\n",
              "  </tbody>\n",
              "</table>\n",
              "</div>"
            ],
            "text/plain": [
              "   canal_venda  acessos   site  vendas  lista\n",
              "0        False    False  False   False  False\n",
              "1        False    False  False   False  False\n",
              "2        False    False  False   False  False\n",
              "3        False    False  False   False  False\n",
              "4        False    False  False   False  False"
            ]
          },
          "metadata": {
            "tags": []
          },
          "execution_count": 49
        }
      ]
    },
    {
      "cell_type": "code",
      "metadata": {
        "id": "0Qh8o0XS3wKY",
        "colab_type": "code",
        "outputId": "9b166639-c92a-48da-c37a-2e56024c3f18",
        "colab": {}
      },
      "source": [
        "#printando os nomes das colunas\n",
        "dataframe.columns"
      ],
      "execution_count": 0,
      "outputs": [
        {
          "output_type": "execute_result",
          "data": {
            "text/plain": [
              "Index(['canal_venda', 'acessos', 'site', 'vendas', 'lista'], dtype='object')"
            ]
          },
          "metadata": {
            "tags": []
          },
          "execution_count": 23
        }
      ]
    },
    {
      "cell_type": "code",
      "metadata": {
        "id": "lsm65ayZ3wKa",
        "colab_type": "code",
        "outputId": "970240e3-2309-4abb-d20a-fdc5d6bcba82",
        "colab": {}
      },
      "source": [
        "#Acessando uma coluna especifica\n",
        "dataframe['canal_venda']"
      ],
      "execution_count": 0,
      "outputs": [
        {
          "output_type": "execute_result",
          "data": {
            "text/plain": [
              "['facebook', 'twitter', 'instagram', 'linkedin', 'facebook']"
            ]
          },
          "metadata": {
            "tags": []
          },
          "execution_count": 52
        }
      ]
    },
    {
      "cell_type": "code",
      "metadata": {
        "id": "2qdZFMB-3wKc",
        "colab_type": "code",
        "colab": {}
      },
      "source": [
        "# Criando uma nova coluna\n",
        "dataframe['nova_coluna'] = [1, 2, 3, 4, 5]"
      ],
      "execution_count": 0,
      "outputs": []
    },
    {
      "cell_type": "code",
      "metadata": {
        "id": "KZxvc38v3wKe",
        "colab_type": "code",
        "outputId": "08df8330-234c-464e-fd54-0809b534ceb1",
        "colab": {}
      },
      "source": [
        "dataframe"
      ],
      "execution_count": 0,
      "outputs": [
        {
          "output_type": "execute_result",
          "data": {
            "text/html": [
              "<div>\n",
              "<style scoped>\n",
              "    .dataframe tbody tr th:only-of-type {\n",
              "        vertical-align: middle;\n",
              "    }\n",
              "\n",
              "    .dataframe tbody tr th {\n",
              "        vertical-align: top;\n",
              "    }\n",
              "\n",
              "    .dataframe thead th {\n",
              "        text-align: right;\n",
              "    }\n",
              "</style>\n",
              "<table border=\"1\" class=\"dataframe\">\n",
              "  <thead>\n",
              "    <tr style=\"text-align: right;\">\n",
              "      <th></th>\n",
              "      <th>canal_venda</th>\n",
              "      <th>acessos</th>\n",
              "      <th>site</th>\n",
              "      <th>vendas</th>\n",
              "      <th>lista</th>\n",
              "      <th>nova_coluna</th>\n",
              "    </tr>\n",
              "  </thead>\n",
              "  <tbody>\n",
              "    <tr>\n",
              "      <th>0</th>\n",
              "      <td>facebook</td>\n",
              "      <td>100</td>\n",
              "      <td>site1</td>\n",
              "      <td>1000.52</td>\n",
              "      <td>200</td>\n",
              "      <td>1</td>\n",
              "    </tr>\n",
              "    <tr>\n",
              "      <th>1</th>\n",
              "      <td>twitter</td>\n",
              "      <td>200</td>\n",
              "      <td>site1</td>\n",
              "      <td>1052.34</td>\n",
              "      <td>200</td>\n",
              "      <td>2</td>\n",
              "    </tr>\n",
              "    <tr>\n",
              "      <th>2</th>\n",
              "      <td>instagram</td>\n",
              "      <td>300</td>\n",
              "      <td>site2</td>\n",
              "      <td>2002.00</td>\n",
              "      <td>300</td>\n",
              "      <td>3</td>\n",
              "    </tr>\n",
              "    <tr>\n",
              "      <th>3</th>\n",
              "      <td>linkedin</td>\n",
              "      <td>400</td>\n",
              "      <td>site2</td>\n",
              "      <td>5000.00</td>\n",
              "      <td>800</td>\n",
              "      <td>4</td>\n",
              "    </tr>\n",
              "    <tr>\n",
              "      <th>4</th>\n",
              "      <td>facebook</td>\n",
              "      <td>500</td>\n",
              "      <td>site3</td>\n",
              "      <td>300.00</td>\n",
              "      <td>200</td>\n",
              "      <td>5</td>\n",
              "    </tr>\n",
              "  </tbody>\n",
              "</table>\n",
              "</div>"
            ],
            "text/plain": [
              "  canal_venda  acessos   site   vendas  lista  nova_coluna\n",
              "0    facebook      100  site1  1000.52    200            1\n",
              "1     twitter      200  site1  1052.34    200            2\n",
              "2   instagram      300  site2  2002.00    300            3\n",
              "3    linkedin      400  site2  5000.00    800            4\n",
              "4    facebook      500  site3   300.00    200            5"
            ]
          },
          "metadata": {
            "tags": []
          },
          "execution_count": 54
        }
      ]
    },
    {
      "cell_type": "code",
      "metadata": {
        "id": "lD9OWYOf3wKh",
        "colab_type": "code",
        "outputId": "589e5319-661b-4e6d-b6e8-a03c8e063ff3",
        "colab": {}
      },
      "source": [
        "dataframe.columns"
      ],
      "execution_count": 0,
      "outputs": [
        {
          "output_type": "execute_result",
          "data": {
            "text/plain": [
              "Index(['canal_venda', 'acessos', 'site', 'vendas', 'lista', 'nova_coluna'], dtype='object')"
            ]
          },
          "metadata": {
            "tags": []
          },
          "execution_count": 55
        }
      ]
    },
    {
      "cell_type": "code",
      "metadata": {
        "id": "WScbkjhx3wKj",
        "colab_type": "code",
        "outputId": "0cfd5f5f-8374-4ec7-fee9-4e607091bbc4",
        "colab": {}
      },
      "source": [
        "# Removendo colunas\n",
        "dataframe.drop(columns = ['acessos','site', 'canal_venda'])"
      ],
      "execution_count": 0,
      "outputs": [
        {
          "output_type": "execute_result",
          "data": {
            "text/html": [
              "<div>\n",
              "<style scoped>\n",
              "    .dataframe tbody tr th:only-of-type {\n",
              "        vertical-align: middle;\n",
              "    }\n",
              "\n",
              "    .dataframe tbody tr th {\n",
              "        vertical-align: top;\n",
              "    }\n",
              "\n",
              "    .dataframe thead th {\n",
              "        text-align: right;\n",
              "    }\n",
              "</style>\n",
              "<table border=\"1\" class=\"dataframe\">\n",
              "  <thead>\n",
              "    <tr style=\"text-align: right;\">\n",
              "      <th></th>\n",
              "      <th>vendas</th>\n",
              "      <th>lista</th>\n",
              "    </tr>\n",
              "  </thead>\n",
              "  <tbody>\n",
              "    <tr>\n",
              "      <th>0</th>\n",
              "      <td>1000.52</td>\n",
              "      <td>200</td>\n",
              "    </tr>\n",
              "    <tr>\n",
              "      <th>1</th>\n",
              "      <td>1052.34</td>\n",
              "      <td>200</td>\n",
              "    </tr>\n",
              "    <tr>\n",
              "      <th>2</th>\n",
              "      <td>2002.00</td>\n",
              "      <td>300</td>\n",
              "    </tr>\n",
              "    <tr>\n",
              "      <th>3</th>\n",
              "      <td>5000.00</td>\n",
              "      <td>800</td>\n",
              "    </tr>\n",
              "    <tr>\n",
              "      <th>4</th>\n",
              "      <td>300.00</td>\n",
              "      <td>200</td>\n",
              "    </tr>\n",
              "  </tbody>\n",
              "</table>\n",
              "</div>"
            ],
            "text/plain": [
              "    vendas  lista\n",
              "0  1000.52    200\n",
              "1  1052.34    200\n",
              "2  2002.00    300\n",
              "3  5000.00    800\n",
              "4   300.00    200"
            ]
          },
          "metadata": {
            "tags": []
          },
          "execution_count": 65
        }
      ]
    },
    {
      "cell_type": "code",
      "metadata": {
        "id": "RnX6-VME3wKm",
        "colab_type": "code",
        "outputId": "e9ffe779-d266-41ef-8603-42a88f60008d",
        "colab": {}
      },
      "source": [
        "dataframe"
      ],
      "execution_count": 0,
      "outputs": [
        {
          "output_type": "execute_result",
          "data": {
            "text/html": [
              "<div>\n",
              "<style scoped>\n",
              "    .dataframe tbody tr th:only-of-type {\n",
              "        vertical-align: middle;\n",
              "    }\n",
              "\n",
              "    .dataframe tbody tr th {\n",
              "        vertical-align: top;\n",
              "    }\n",
              "\n",
              "    .dataframe thead th {\n",
              "        text-align: right;\n",
              "    }\n",
              "</style>\n",
              "<table border=\"1\" class=\"dataframe\">\n",
              "  <thead>\n",
              "    <tr style=\"text-align: right;\">\n",
              "      <th></th>\n",
              "      <th>canal_venda</th>\n",
              "      <th>acessos</th>\n",
              "      <th>site</th>\n",
              "      <th>vendas</th>\n",
              "      <th>lista</th>\n",
              "    </tr>\n",
              "  </thead>\n",
              "  <tbody>\n",
              "    <tr>\n",
              "      <th>0</th>\n",
              "      <td>facebook</td>\n",
              "      <td>100</td>\n",
              "      <td>site1</td>\n",
              "      <td>1000.52</td>\n",
              "      <td>200</td>\n",
              "    </tr>\n",
              "    <tr>\n",
              "      <th>1</th>\n",
              "      <td>twitter</td>\n",
              "      <td>200</td>\n",
              "      <td>site1</td>\n",
              "      <td>1052.34</td>\n",
              "      <td>200</td>\n",
              "    </tr>\n",
              "    <tr>\n",
              "      <th>2</th>\n",
              "      <td>instagram</td>\n",
              "      <td>300</td>\n",
              "      <td>site2</td>\n",
              "      <td>2002.00</td>\n",
              "      <td>300</td>\n",
              "    </tr>\n",
              "    <tr>\n",
              "      <th>3</th>\n",
              "      <td>linkedin</td>\n",
              "      <td>400</td>\n",
              "      <td>site2</td>\n",
              "      <td>5000.00</td>\n",
              "      <td>800</td>\n",
              "    </tr>\n",
              "    <tr>\n",
              "      <th>4</th>\n",
              "      <td>facebook</td>\n",
              "      <td>500</td>\n",
              "      <td>site3</td>\n",
              "      <td>300.00</td>\n",
              "      <td>200</td>\n",
              "    </tr>\n",
              "  </tbody>\n",
              "</table>\n",
              "</div>"
            ],
            "text/plain": [
              "  canal_venda  acessos   site   vendas  lista\n",
              "0    facebook      100  site1  1000.52    200\n",
              "1     twitter      200  site1  1052.34    200\n",
              "2   instagram      300  site2  2002.00    300\n",
              "3    linkedin      400  site2  5000.00    800\n",
              "4    facebook      500  site3   300.00    200"
            ]
          },
          "metadata": {
            "tags": []
          },
          "execution_count": 66
        }
      ]
    },
    {
      "cell_type": "code",
      "metadata": {
        "id": "nRROBRXA3wKp",
        "colab_type": "code",
        "outputId": "b11a4918-682a-4659-9d69-321dbdb41f66",
        "colab": {}
      },
      "source": [
        "#Mostrando as colunas\n",
        "dataframe.columns"
      ],
      "execution_count": 0,
      "outputs": [
        {
          "output_type": "execute_result",
          "data": {
            "text/plain": [
              "Index(['canal_venda', 'acessos', 'site', 'vendas', 'lista'], dtype='object')"
            ]
          },
          "metadata": {
            "tags": []
          },
          "execution_count": 28
        }
      ]
    },
    {
      "cell_type": "code",
      "metadata": {
        "id": "KzWN6IiZ3wKs",
        "colab_type": "code",
        "outputId": "73572c98-a83f-41a2-9b16-7dfb5ba126e1",
        "colab": {}
      },
      "source": [
        "#Acessando valores especificos\n",
        "dataframe['acessos'][1]"
      ],
      "execution_count": 0,
      "outputs": [
        {
          "output_type": "execute_result",
          "data": {
            "text/plain": [
              "200"
            ]
          },
          "metadata": {
            "tags": []
          },
          "execution_count": 71
        }
      ]
    },
    {
      "cell_type": "code",
      "metadata": {
        "id": "NpdyfjjE3wKu",
        "colab_type": "code",
        "outputId": "55dfc9f8-b20b-4542-d3b8-6f1b77e88893",
        "colab": {}
      },
      "source": [
        "#Acessando fatia de coluna especifica\n",
        "dataframe['canal_venda'][:2]"
      ],
      "execution_count": 0,
      "outputs": [
        {
          "output_type": "execute_result",
          "data": {
            "text/plain": [
              "0    facebook\n",
              "1     twitter\n",
              "Name: canal_venda, dtype: object"
            ]
          },
          "metadata": {
            "tags": []
          },
          "execution_count": 30
        }
      ]
    },
    {
      "cell_type": "code",
      "metadata": {
        "id": "tJKgMPeu3wKx",
        "colab_type": "code",
        "outputId": "0e1be9cd-126f-495f-d1bb-1fc7dc90ee34",
        "colab": {}
      },
      "source": [
        "dataframe"
      ],
      "execution_count": 0,
      "outputs": [
        {
          "output_type": "execute_result",
          "data": {
            "text/html": [
              "<div>\n",
              "<style scoped>\n",
              "    .dataframe tbody tr th:only-of-type {\n",
              "        vertical-align: middle;\n",
              "    }\n",
              "\n",
              "    .dataframe tbody tr th {\n",
              "        vertical-align: top;\n",
              "    }\n",
              "\n",
              "    .dataframe thead th {\n",
              "        text-align: right;\n",
              "    }\n",
              "</style>\n",
              "<table border=\"1\" class=\"dataframe\">\n",
              "  <thead>\n",
              "    <tr style=\"text-align: right;\">\n",
              "      <th></th>\n",
              "      <th>canal_venda</th>\n",
              "      <th>acessos</th>\n",
              "      <th>site</th>\n",
              "      <th>vendas</th>\n",
              "      <th>lista</th>\n",
              "    </tr>\n",
              "  </thead>\n",
              "  <tbody>\n",
              "    <tr>\n",
              "      <th>0</th>\n",
              "      <td>facebook</td>\n",
              "      <td>100</td>\n",
              "      <td>site1</td>\n",
              "      <td>1000.52</td>\n",
              "      <td>200</td>\n",
              "    </tr>\n",
              "    <tr>\n",
              "      <th>1</th>\n",
              "      <td>twitter</td>\n",
              "      <td>200</td>\n",
              "      <td>site1</td>\n",
              "      <td>1052.34</td>\n",
              "      <td>200</td>\n",
              "    </tr>\n",
              "    <tr>\n",
              "      <th>2</th>\n",
              "      <td>instagram</td>\n",
              "      <td>300</td>\n",
              "      <td>site2</td>\n",
              "      <td>2002.00</td>\n",
              "      <td>300</td>\n",
              "    </tr>\n",
              "    <tr>\n",
              "      <th>3</th>\n",
              "      <td>linkedin</td>\n",
              "      <td>400</td>\n",
              "      <td>site2</td>\n",
              "      <td>5000.00</td>\n",
              "      <td>800</td>\n",
              "    </tr>\n",
              "    <tr>\n",
              "      <th>4</th>\n",
              "      <td>facebook</td>\n",
              "      <td>500</td>\n",
              "      <td>site3</td>\n",
              "      <td>300.00</td>\n",
              "      <td>200</td>\n",
              "    </tr>\n",
              "  </tbody>\n",
              "</table>\n",
              "</div>"
            ],
            "text/plain": [
              "  canal_venda  acessos   site   vendas  lista\n",
              "0    facebook      100  site1  1000.52    200\n",
              "1     twitter      200  site1  1052.34    200\n",
              "2   instagram      300  site2  2002.00    300\n",
              "3    linkedin      400  site2  5000.00    800\n",
              "4    facebook      500  site3   300.00    200"
            ]
          },
          "metadata": {
            "tags": []
          },
          "execution_count": 74
        }
      ]
    },
    {
      "cell_type": "code",
      "metadata": {
        "id": "b83Pp9Ih3wK2",
        "colab_type": "code",
        "outputId": "761f8042-9ef7-4fc1-8d41-298c5a0d9f7b",
        "colab": {}
      },
      "source": [
        "### Fatiando os dados usando o iloc (linhas | colunas)\n",
        "dataframe.iloc[3:,4:]"
      ],
      "execution_count": 0,
      "outputs": [
        {
          "output_type": "execute_result",
          "data": {
            "text/html": [
              "<div>\n",
              "<style scoped>\n",
              "    .dataframe tbody tr th:only-of-type {\n",
              "        vertical-align: middle;\n",
              "    }\n",
              "\n",
              "    .dataframe tbody tr th {\n",
              "        vertical-align: top;\n",
              "    }\n",
              "\n",
              "    .dataframe thead th {\n",
              "        text-align: right;\n",
              "    }\n",
              "</style>\n",
              "<table border=\"1\" class=\"dataframe\">\n",
              "  <thead>\n",
              "    <tr style=\"text-align: right;\">\n",
              "      <th></th>\n",
              "      <th>lista</th>\n",
              "    </tr>\n",
              "  </thead>\n",
              "  <tbody>\n",
              "    <tr>\n",
              "      <th>3</th>\n",
              "      <td>800</td>\n",
              "    </tr>\n",
              "    <tr>\n",
              "      <th>4</th>\n",
              "      <td>200</td>\n",
              "    </tr>\n",
              "  </tbody>\n",
              "</table>\n",
              "</div>"
            ],
            "text/plain": [
              "   lista\n",
              "3    800\n",
              "4    200"
            ]
          },
          "metadata": {
            "tags": []
          },
          "execution_count": 79
        }
      ]
    },
    {
      "cell_type": "code",
      "metadata": {
        "id": "-z2OhHNi3wK6",
        "colab_type": "code",
        "outputId": "02611812-cfaf-476a-9b39-270695e86d40",
        "colab": {}
      },
      "source": [
        "dataframe"
      ],
      "execution_count": 0,
      "outputs": [
        {
          "output_type": "execute_result",
          "data": {
            "text/html": [
              "<div>\n",
              "<style scoped>\n",
              "    .dataframe tbody tr th:only-of-type {\n",
              "        vertical-align: middle;\n",
              "    }\n",
              "\n",
              "    .dataframe tbody tr th {\n",
              "        vertical-align: top;\n",
              "    }\n",
              "\n",
              "    .dataframe thead th {\n",
              "        text-align: right;\n",
              "    }\n",
              "</style>\n",
              "<table border=\"1\" class=\"dataframe\">\n",
              "  <thead>\n",
              "    <tr style=\"text-align: right;\">\n",
              "      <th></th>\n",
              "      <th>canal_venda</th>\n",
              "      <th>acessos</th>\n",
              "      <th>site</th>\n",
              "      <th>vendas</th>\n",
              "      <th>lista</th>\n",
              "    </tr>\n",
              "  </thead>\n",
              "  <tbody>\n",
              "    <tr>\n",
              "      <th>0</th>\n",
              "      <td>facebook</td>\n",
              "      <td>100</td>\n",
              "      <td>site1</td>\n",
              "      <td>1000.52</td>\n",
              "      <td>200</td>\n",
              "    </tr>\n",
              "    <tr>\n",
              "      <th>1</th>\n",
              "      <td>twitter</td>\n",
              "      <td>200</td>\n",
              "      <td>site1</td>\n",
              "      <td>1052.34</td>\n",
              "      <td>200</td>\n",
              "    </tr>\n",
              "    <tr>\n",
              "      <th>2</th>\n",
              "      <td>instagram</td>\n",
              "      <td>300</td>\n",
              "      <td>site2</td>\n",
              "      <td>2002.00</td>\n",
              "      <td>300</td>\n",
              "    </tr>\n",
              "    <tr>\n",
              "      <th>3</th>\n",
              "      <td>linkedin</td>\n",
              "      <td>400</td>\n",
              "      <td>site2</td>\n",
              "      <td>5000.00</td>\n",
              "      <td>800</td>\n",
              "    </tr>\n",
              "    <tr>\n",
              "      <th>4</th>\n",
              "      <td>facebook</td>\n",
              "      <td>500</td>\n",
              "      <td>site3</td>\n",
              "      <td>300.00</td>\n",
              "      <td>200</td>\n",
              "    </tr>\n",
              "  </tbody>\n",
              "</table>\n",
              "</div>"
            ],
            "text/plain": [
              "  canal_venda  acessos   site   vendas  lista\n",
              "0    facebook      100  site1  1000.52    200\n",
              "1     twitter      200  site1  1052.34    200\n",
              "2   instagram      300  site2  2002.00    300\n",
              "3    linkedin      400  site2  5000.00    800\n",
              "4    facebook      500  site3   300.00    200"
            ]
          },
          "metadata": {
            "tags": []
          },
          "execution_count": 80
        }
      ]
    },
    {
      "cell_type": "code",
      "metadata": {
        "id": "CUe7K5cC3wK9",
        "colab_type": "code",
        "outputId": "d06bdf8c-c466-4c86-8a42-cbc486806fa7",
        "colab": {}
      },
      "source": [
        "#Fatiar os dados usando o loc (indice)\n",
        "dataframe.loc[:3]"
      ],
      "execution_count": 0,
      "outputs": [
        {
          "output_type": "execute_result",
          "data": {
            "text/html": [
              "<div>\n",
              "<style scoped>\n",
              "    .dataframe tbody tr th:only-of-type {\n",
              "        vertical-align: middle;\n",
              "    }\n",
              "\n",
              "    .dataframe tbody tr th {\n",
              "        vertical-align: top;\n",
              "    }\n",
              "\n",
              "    .dataframe thead th {\n",
              "        text-align: right;\n",
              "    }\n",
              "</style>\n",
              "<table border=\"1\" class=\"dataframe\">\n",
              "  <thead>\n",
              "    <tr style=\"text-align: right;\">\n",
              "      <th></th>\n",
              "      <th>canal_venda</th>\n",
              "      <th>acessos</th>\n",
              "      <th>site</th>\n",
              "      <th>vendas</th>\n",
              "      <th>lista</th>\n",
              "    </tr>\n",
              "  </thead>\n",
              "  <tbody>\n",
              "    <tr>\n",
              "      <th>0</th>\n",
              "      <td>facebook</td>\n",
              "      <td>100</td>\n",
              "      <td>site1</td>\n",
              "      <td>1000.52</td>\n",
              "      <td>200</td>\n",
              "    </tr>\n",
              "    <tr>\n",
              "      <th>1</th>\n",
              "      <td>twitter</td>\n",
              "      <td>200</td>\n",
              "      <td>site1</td>\n",
              "      <td>1052.34</td>\n",
              "      <td>200</td>\n",
              "    </tr>\n",
              "    <tr>\n",
              "      <th>2</th>\n",
              "      <td>instagram</td>\n",
              "      <td>300</td>\n",
              "      <td>site2</td>\n",
              "      <td>2002.00</td>\n",
              "      <td>300</td>\n",
              "    </tr>\n",
              "    <tr>\n",
              "      <th>3</th>\n",
              "      <td>linkedin</td>\n",
              "      <td>400</td>\n",
              "      <td>site2</td>\n",
              "      <td>5000.00</td>\n",
              "      <td>800</td>\n",
              "    </tr>\n",
              "  </tbody>\n",
              "</table>\n",
              "</div>"
            ],
            "text/plain": [
              "  canal_venda  acessos   site   vendas  lista\n",
              "0    facebook      100  site1  1000.52    200\n",
              "1     twitter      200  site1  1052.34    200\n",
              "2   instagram      300  site2  2002.00    300\n",
              "3    linkedin      400  site2  5000.00    800"
            ]
          },
          "metadata": {
            "tags": []
          },
          "execution_count": 32
        }
      ]
    },
    {
      "cell_type": "code",
      "metadata": {
        "id": "kLOA23Rm3wLA",
        "colab_type": "code",
        "outputId": "e78c1f67-12de-4462-d10b-faf8bc71338a",
        "colab": {}
      },
      "source": [
        "#Selecionando colunas especificas\n",
        "dataframe[['canal_venda', 'vendas']]"
      ],
      "execution_count": 0,
      "outputs": [
        {
          "output_type": "execute_result",
          "data": {
            "text/html": [
              "<div>\n",
              "<style scoped>\n",
              "    .dataframe tbody tr th:only-of-type {\n",
              "        vertical-align: middle;\n",
              "    }\n",
              "\n",
              "    .dataframe tbody tr th {\n",
              "        vertical-align: top;\n",
              "    }\n",
              "\n",
              "    .dataframe thead th {\n",
              "        text-align: right;\n",
              "    }\n",
              "</style>\n",
              "<table border=\"1\" class=\"dataframe\">\n",
              "  <thead>\n",
              "    <tr style=\"text-align: right;\">\n",
              "      <th></th>\n",
              "      <th>canal_venda</th>\n",
              "      <th>vendas</th>\n",
              "    </tr>\n",
              "  </thead>\n",
              "  <tbody>\n",
              "    <tr>\n",
              "      <th>0</th>\n",
              "      <td>facebook</td>\n",
              "      <td>1000.52</td>\n",
              "    </tr>\n",
              "    <tr>\n",
              "      <th>1</th>\n",
              "      <td>twitter</td>\n",
              "      <td>1052.34</td>\n",
              "    </tr>\n",
              "    <tr>\n",
              "      <th>2</th>\n",
              "      <td>instagram</td>\n",
              "      <td>2002.00</td>\n",
              "    </tr>\n",
              "    <tr>\n",
              "      <th>3</th>\n",
              "      <td>linkedin</td>\n",
              "      <td>5000.00</td>\n",
              "    </tr>\n",
              "    <tr>\n",
              "      <th>4</th>\n",
              "      <td>facebook</td>\n",
              "      <td>300.00</td>\n",
              "    </tr>\n",
              "  </tbody>\n",
              "</table>\n",
              "</div>"
            ],
            "text/plain": [
              "  canal_venda   vendas\n",
              "0    facebook  1000.52\n",
              "1     twitter  1052.34\n",
              "2   instagram  2002.00\n",
              "3    linkedin  5000.00\n",
              "4    facebook   300.00"
            ]
          },
          "metadata": {
            "tags": []
          },
          "execution_count": 83
        }
      ]
    },
    {
      "cell_type": "code",
      "metadata": {
        "id": "8wVpvyW83wLC",
        "colab_type": "code",
        "colab": {}
      },
      "source": [
        "#Passando os valores atraves de lista\n",
        "filtro = ['canal_venda', 'acessos']"
      ],
      "execution_count": 0,
      "outputs": []
    },
    {
      "cell_type": "code",
      "metadata": {
        "id": "8x2ypiam3wLG",
        "colab_type": "code",
        "outputId": "c86d9cc1-d2d7-48fa-db6d-eacabde1cff5",
        "colab": {}
      },
      "source": [
        "dataframe[filtro]"
      ],
      "execution_count": 0,
      "outputs": [
        {
          "output_type": "execute_result",
          "data": {
            "text/html": [
              "<div>\n",
              "<style scoped>\n",
              "    .dataframe tbody tr th:only-of-type {\n",
              "        vertical-align: middle;\n",
              "    }\n",
              "\n",
              "    .dataframe tbody tr th {\n",
              "        vertical-align: top;\n",
              "    }\n",
              "\n",
              "    .dataframe thead th {\n",
              "        text-align: right;\n",
              "    }\n",
              "</style>\n",
              "<table border=\"1\" class=\"dataframe\">\n",
              "  <thead>\n",
              "    <tr style=\"text-align: right;\">\n",
              "      <th></th>\n",
              "      <th>canal_venda</th>\n",
              "      <th>acessos</th>\n",
              "    </tr>\n",
              "  </thead>\n",
              "  <tbody>\n",
              "    <tr>\n",
              "      <th>0</th>\n",
              "      <td>facebook</td>\n",
              "      <td>100</td>\n",
              "    </tr>\n",
              "    <tr>\n",
              "      <th>1</th>\n",
              "      <td>twitter</td>\n",
              "      <td>200</td>\n",
              "    </tr>\n",
              "    <tr>\n",
              "      <th>2</th>\n",
              "      <td>instagram</td>\n",
              "      <td>300</td>\n",
              "    </tr>\n",
              "    <tr>\n",
              "      <th>3</th>\n",
              "      <td>linkedin</td>\n",
              "      <td>400</td>\n",
              "    </tr>\n",
              "    <tr>\n",
              "      <th>4</th>\n",
              "      <td>facebook</td>\n",
              "      <td>500</td>\n",
              "    </tr>\n",
              "  </tbody>\n",
              "</table>\n",
              "</div>"
            ],
            "text/plain": [
              "  canal_venda  acessos\n",
              "0    facebook      100\n",
              "1     twitter      200\n",
              "2   instagram      300\n",
              "3    linkedin      400\n",
              "4    facebook      500"
            ]
          },
          "metadata": {
            "tags": []
          },
          "execution_count": 85
        }
      ]
    },
    {
      "cell_type": "code",
      "metadata": {
        "id": "HwFGemhp3wLK",
        "colab_type": "code",
        "outputId": "5f1715f0-2d68-434c-b22a-fb552d68c0f3",
        "colab": {}
      },
      "source": [
        "# Usando o metodo info()\n",
        "dataframe.info()"
      ],
      "execution_count": 0,
      "outputs": [
        {
          "output_type": "stream",
          "text": [
            "<class 'pandas.core.frame.DataFrame'>\n",
            "RangeIndex: 5 entries, 0 to 4\n",
            "Data columns (total 5 columns):\n",
            " #   Column       Non-Null Count  Dtype  \n",
            "---  ------       --------------  -----  \n",
            " 0   canal_venda  5 non-null      object \n",
            " 1   acessos      5 non-null      int64  \n",
            " 2   site         5 non-null      object \n",
            " 3   vendas       5 non-null      float64\n",
            " 4   lista        5 non-null      int64  \n",
            "dtypes: float64(1), int64(2), object(2)\n",
            "memory usage: 328.0+ bytes\n"
          ],
          "name": "stdout"
        }
      ]
    },
    {
      "cell_type": "code",
      "metadata": {
        "id": "Lk8EzmPI3wLN",
        "colab_type": "code",
        "outputId": "2539c54a-d5b2-4016-cd79-ec1f727c61e7",
        "colab": {}
      },
      "source": [
        "dataframe"
      ],
      "execution_count": 0,
      "outputs": [
        {
          "output_type": "execute_result",
          "data": {
            "text/html": [
              "<div>\n",
              "<style scoped>\n",
              "    .dataframe tbody tr th:only-of-type {\n",
              "        vertical-align: middle;\n",
              "    }\n",
              "\n",
              "    .dataframe tbody tr th {\n",
              "        vertical-align: top;\n",
              "    }\n",
              "\n",
              "    .dataframe thead th {\n",
              "        text-align: right;\n",
              "    }\n",
              "</style>\n",
              "<table border=\"1\" class=\"dataframe\">\n",
              "  <thead>\n",
              "    <tr style=\"text-align: right;\">\n",
              "      <th></th>\n",
              "      <th>canal_venda</th>\n",
              "      <th>acessos</th>\n",
              "      <th>site</th>\n",
              "      <th>vendas</th>\n",
              "      <th>lista</th>\n",
              "    </tr>\n",
              "  </thead>\n",
              "  <tbody>\n",
              "    <tr>\n",
              "      <th>0</th>\n",
              "      <td>facebook</td>\n",
              "      <td>100</td>\n",
              "      <td>site1</td>\n",
              "      <td>1000.52</td>\n",
              "      <td>200</td>\n",
              "    </tr>\n",
              "    <tr>\n",
              "      <th>1</th>\n",
              "      <td>twitter</td>\n",
              "      <td>200</td>\n",
              "      <td>site1</td>\n",
              "      <td>1052.34</td>\n",
              "      <td>200</td>\n",
              "    </tr>\n",
              "    <tr>\n",
              "      <th>2</th>\n",
              "      <td>instagram</td>\n",
              "      <td>300</td>\n",
              "      <td>site2</td>\n",
              "      <td>2002.00</td>\n",
              "      <td>300</td>\n",
              "    </tr>\n",
              "    <tr>\n",
              "      <th>3</th>\n",
              "      <td>linkedin</td>\n",
              "      <td>400</td>\n",
              "      <td>site2</td>\n",
              "      <td>5000.00</td>\n",
              "      <td>800</td>\n",
              "    </tr>\n",
              "    <tr>\n",
              "      <th>4</th>\n",
              "      <td>facebook</td>\n",
              "      <td>500</td>\n",
              "      <td>site3</td>\n",
              "      <td>300.00</td>\n",
              "      <td>200</td>\n",
              "    </tr>\n",
              "  </tbody>\n",
              "</table>\n",
              "</div>"
            ],
            "text/plain": [
              "  canal_venda  acessos   site   vendas  lista\n",
              "0    facebook      100  site1  1000.52    200\n",
              "1     twitter      200  site1  1052.34    200\n",
              "2   instagram      300  site2  2002.00    300\n",
              "3    linkedin      400  site2  5000.00    800\n",
              "4    facebook      500  site3   300.00    200"
            ]
          },
          "metadata": {
            "tags": []
          },
          "execution_count": 87
        }
      ]
    },
    {
      "cell_type": "code",
      "metadata": {
        "id": "r5TlSqvX3wLP",
        "colab_type": "code",
        "colab": {}
      },
      "source": [
        "#Pivotando os dados (coluna)\n",
        "aux = dataframe.pivot(index = 'canal_venda', columns='site', values='acessos')"
      ],
      "execution_count": 0,
      "outputs": []
    },
    {
      "cell_type": "code",
      "metadata": {
        "id": "HtV4GqlH3wLR",
        "colab_type": "code",
        "outputId": "facb80cd-132f-4ed7-8b0e-110339e58c80",
        "colab": {}
      },
      "source": [
        "aux.info()"
      ],
      "execution_count": 0,
      "outputs": [
        {
          "output_type": "stream",
          "text": [
            "<class 'pandas.core.frame.DataFrame'>\n",
            "Index: 4 entries, facebook to twitter\n",
            "Data columns (total 3 columns):\n",
            " #   Column  Non-Null Count  Dtype  \n",
            "---  ------  --------------  -----  \n",
            " 0   site1   2 non-null      float64\n",
            " 1   site2   2 non-null      float64\n",
            " 2   site3   1 non-null      float64\n",
            "dtypes: float64(3)\n",
            "memory usage: 128.0+ bytes\n"
          ],
          "name": "stdout"
        }
      ]
    },
    {
      "cell_type": "code",
      "metadata": {
        "id": "1gcsC3G43wLT",
        "colab_type": "code",
        "outputId": "09b71029-2e15-4fea-ee4a-2ff31a482aa9",
        "colab": {}
      },
      "source": [
        "#Completando os valores faltantes usando fillna\n",
        "#Pivotando os dados (coluna)\n",
        "aux= dataframe.pivot(index = 'canal_venda', columns='site', values='acessos').fillna(0)\n",
        "dataframe.pivot(index = 'canal_venda', columns='site', values='acessos').fillna(0)"
      ],
      "execution_count": 0,
      "outputs": [
        {
          "output_type": "execute_result",
          "data": {
            "text/html": [
              "<div>\n",
              "<style scoped>\n",
              "    .dataframe tbody tr th:only-of-type {\n",
              "        vertical-align: middle;\n",
              "    }\n",
              "\n",
              "    .dataframe tbody tr th {\n",
              "        vertical-align: top;\n",
              "    }\n",
              "\n",
              "    .dataframe thead th {\n",
              "        text-align: right;\n",
              "    }\n",
              "</style>\n",
              "<table border=\"1\" class=\"dataframe\">\n",
              "  <thead>\n",
              "    <tr style=\"text-align: right;\">\n",
              "      <th>site</th>\n",
              "      <th>site1</th>\n",
              "      <th>site2</th>\n",
              "      <th>site3</th>\n",
              "    </tr>\n",
              "    <tr>\n",
              "      <th>canal_venda</th>\n",
              "      <th></th>\n",
              "      <th></th>\n",
              "      <th></th>\n",
              "    </tr>\n",
              "  </thead>\n",
              "  <tbody>\n",
              "    <tr>\n",
              "      <th>facebook</th>\n",
              "      <td>100.0</td>\n",
              "      <td>0.0</td>\n",
              "      <td>500.0</td>\n",
              "    </tr>\n",
              "    <tr>\n",
              "      <th>instagram</th>\n",
              "      <td>0.0</td>\n",
              "      <td>300.0</td>\n",
              "      <td>0.0</td>\n",
              "    </tr>\n",
              "    <tr>\n",
              "      <th>linkedin</th>\n",
              "      <td>0.0</td>\n",
              "      <td>400.0</td>\n",
              "      <td>0.0</td>\n",
              "    </tr>\n",
              "    <tr>\n",
              "      <th>twitter</th>\n",
              "      <td>200.0</td>\n",
              "      <td>0.0</td>\n",
              "      <td>0.0</td>\n",
              "    </tr>\n",
              "  </tbody>\n",
              "</table>\n",
              "</div>"
            ],
            "text/plain": [
              "site         site1  site2  site3\n",
              "canal_venda                     \n",
              "facebook     100.0    0.0  500.0\n",
              "instagram      0.0  300.0    0.0\n",
              "linkedin       0.0  400.0    0.0\n",
              "twitter      200.0    0.0    0.0"
            ]
          },
          "metadata": {
            "tags": []
          },
          "execution_count": 97
        }
      ]
    },
    {
      "cell_type": "code",
      "metadata": {
        "id": "sCrvQPIu3wLV",
        "colab_type": "code",
        "outputId": "9b95152d-1e3c-4e61-8952-b5a581594b95",
        "colab": {}
      },
      "source": [
        "dataframe"
      ],
      "execution_count": 0,
      "outputs": [
        {
          "output_type": "execute_result",
          "data": {
            "text/html": [
              "<div>\n",
              "<style scoped>\n",
              "    .dataframe tbody tr th:only-of-type {\n",
              "        vertical-align: middle;\n",
              "    }\n",
              "\n",
              "    .dataframe tbody tr th {\n",
              "        vertical-align: top;\n",
              "    }\n",
              "\n",
              "    .dataframe thead th {\n",
              "        text-align: right;\n",
              "    }\n",
              "</style>\n",
              "<table border=\"1\" class=\"dataframe\">\n",
              "  <thead>\n",
              "    <tr style=\"text-align: right;\">\n",
              "      <th></th>\n",
              "      <th>canal_venda</th>\n",
              "      <th>acessos</th>\n",
              "      <th>site</th>\n",
              "      <th>vendas</th>\n",
              "      <th>lista</th>\n",
              "    </tr>\n",
              "  </thead>\n",
              "  <tbody>\n",
              "    <tr>\n",
              "      <th>0</th>\n",
              "      <td>facebook</td>\n",
              "      <td>100</td>\n",
              "      <td>site1</td>\n",
              "      <td>1000.52</td>\n",
              "      <td>200</td>\n",
              "    </tr>\n",
              "    <tr>\n",
              "      <th>1</th>\n",
              "      <td>twitter</td>\n",
              "      <td>200</td>\n",
              "      <td>site1</td>\n",
              "      <td>1052.34</td>\n",
              "      <td>200</td>\n",
              "    </tr>\n",
              "    <tr>\n",
              "      <th>2</th>\n",
              "      <td>instagram</td>\n",
              "      <td>300</td>\n",
              "      <td>site2</td>\n",
              "      <td>2002.00</td>\n",
              "      <td>300</td>\n",
              "    </tr>\n",
              "    <tr>\n",
              "      <th>3</th>\n",
              "      <td>linkedin</td>\n",
              "      <td>400</td>\n",
              "      <td>site2</td>\n",
              "      <td>5000.00</td>\n",
              "      <td>800</td>\n",
              "    </tr>\n",
              "    <tr>\n",
              "      <th>4</th>\n",
              "      <td>facebook</td>\n",
              "      <td>500</td>\n",
              "      <td>site3</td>\n",
              "      <td>300.00</td>\n",
              "      <td>200</td>\n",
              "    </tr>\n",
              "  </tbody>\n",
              "</table>\n",
              "</div>"
            ],
            "text/plain": [
              "  canal_venda  acessos   site   vendas  lista\n",
              "0    facebook      100  site1  1000.52    200\n",
              "1     twitter      200  site1  1052.34    200\n",
              "2   instagram      300  site2  2002.00    300\n",
              "3    linkedin      400  site2  5000.00    800\n",
              "4    facebook      500  site3   300.00    200"
            ]
          },
          "metadata": {
            "tags": []
          },
          "execution_count": 90
        }
      ]
    },
    {
      "cell_type": "code",
      "metadata": {
        "id": "jpzDWC-V3wLa",
        "colab_type": "code",
        "outputId": "7fd7611b-c1a2-44cf-a3ac-393549cf99ed",
        "colab": {}
      },
      "source": [
        "# Mudando as colunas usando o comando melt\n",
        "dataframe.melt(id_vars='site', value_vars=['canal_venda'])"
      ],
      "execution_count": 0,
      "outputs": [
        {
          "output_type": "execute_result",
          "data": {
            "text/html": [
              "<div>\n",
              "<style scoped>\n",
              "    .dataframe tbody tr th:only-of-type {\n",
              "        vertical-align: middle;\n",
              "    }\n",
              "\n",
              "    .dataframe tbody tr th {\n",
              "        vertical-align: top;\n",
              "    }\n",
              "\n",
              "    .dataframe thead th {\n",
              "        text-align: right;\n",
              "    }\n",
              "</style>\n",
              "<table border=\"1\" class=\"dataframe\">\n",
              "  <thead>\n",
              "    <tr style=\"text-align: right;\">\n",
              "      <th></th>\n",
              "      <th>site</th>\n",
              "      <th>variable</th>\n",
              "      <th>value</th>\n",
              "    </tr>\n",
              "  </thead>\n",
              "  <tbody>\n",
              "    <tr>\n",
              "      <th>0</th>\n",
              "      <td>site1</td>\n",
              "      <td>canal_venda</td>\n",
              "      <td>facebook</td>\n",
              "    </tr>\n",
              "    <tr>\n",
              "      <th>1</th>\n",
              "      <td>site1</td>\n",
              "      <td>canal_venda</td>\n",
              "      <td>twitter</td>\n",
              "    </tr>\n",
              "    <tr>\n",
              "      <th>2</th>\n",
              "      <td>site2</td>\n",
              "      <td>canal_venda</td>\n",
              "      <td>instagram</td>\n",
              "    </tr>\n",
              "    <tr>\n",
              "      <th>3</th>\n",
              "      <td>site2</td>\n",
              "      <td>canal_venda</td>\n",
              "      <td>linkedin</td>\n",
              "    </tr>\n",
              "    <tr>\n",
              "      <th>4</th>\n",
              "      <td>site3</td>\n",
              "      <td>canal_venda</td>\n",
              "      <td>facebook</td>\n",
              "    </tr>\n",
              "  </tbody>\n",
              "</table>\n",
              "</div>"
            ],
            "text/plain": [
              "    site     variable      value\n",
              "0  site1  canal_venda   facebook\n",
              "1  site1  canal_venda    twitter\n",
              "2  site2  canal_venda  instagram\n",
              "3  site2  canal_venda   linkedin\n",
              "4  site3  canal_venda   facebook"
            ]
          },
          "metadata": {
            "tags": []
          },
          "execution_count": 39
        }
      ]
    },
    {
      "cell_type": "code",
      "metadata": {
        "id": "krTuMjqR3wLf",
        "colab_type": "code",
        "outputId": "c69af02b-bf26-42d3-da2c-89f0a687cda8",
        "colab": {}
      },
      "source": [
        "#Resetando o indice do dataframe\n",
        "print(aux.columns)\n",
        "aux = dataframe.reset_index()\n",
        "print(aux.columns)"
      ],
      "execution_count": 0,
      "outputs": [
        {
          "output_type": "stream",
          "text": [
            "Index(['canal_venda', 'site1', 'site2', 'site3'], dtype='object', name='site')\n",
            "Index(['index', 'canal_venda', 'acessos', 'site', 'vendas', 'lista'], dtype='object')\n"
          ],
          "name": "stdout"
        }
      ]
    },
    {
      "cell_type": "code",
      "metadata": {
        "id": "yLOZCiyq3wLj",
        "colab_type": "code",
        "outputId": "fa303d2d-aa11-47ac-bae6-8861aa5bbf7d",
        "colab": {}
      },
      "source": [
        "dataframe"
      ],
      "execution_count": 0,
      "outputs": [
        {
          "output_type": "execute_result",
          "data": {
            "text/html": [
              "<div>\n",
              "<style scoped>\n",
              "    .dataframe tbody tr th:only-of-type {\n",
              "        vertical-align: middle;\n",
              "    }\n",
              "\n",
              "    .dataframe tbody tr th {\n",
              "        vertical-align: top;\n",
              "    }\n",
              "\n",
              "    .dataframe thead th {\n",
              "        text-align: right;\n",
              "    }\n",
              "</style>\n",
              "<table border=\"1\" class=\"dataframe\">\n",
              "  <thead>\n",
              "    <tr style=\"text-align: right;\">\n",
              "      <th></th>\n",
              "      <th>canal_venda</th>\n",
              "      <th>acessos</th>\n",
              "      <th>site</th>\n",
              "      <th>vendas</th>\n",
              "      <th>lista</th>\n",
              "    </tr>\n",
              "  </thead>\n",
              "  <tbody>\n",
              "    <tr>\n",
              "      <th>0</th>\n",
              "      <td>facebook</td>\n",
              "      <td>100</td>\n",
              "      <td>site1</td>\n",
              "      <td>1000.52</td>\n",
              "      <td>200</td>\n",
              "    </tr>\n",
              "    <tr>\n",
              "      <th>1</th>\n",
              "      <td>twitter</td>\n",
              "      <td>200</td>\n",
              "      <td>site1</td>\n",
              "      <td>1052.34</td>\n",
              "      <td>200</td>\n",
              "    </tr>\n",
              "    <tr>\n",
              "      <th>2</th>\n",
              "      <td>instagram</td>\n",
              "      <td>300</td>\n",
              "      <td>site2</td>\n",
              "      <td>2002.00</td>\n",
              "      <td>300</td>\n",
              "    </tr>\n",
              "    <tr>\n",
              "      <th>3</th>\n",
              "      <td>linkedin</td>\n",
              "      <td>400</td>\n",
              "      <td>site2</td>\n",
              "      <td>5000.00</td>\n",
              "      <td>800</td>\n",
              "    </tr>\n",
              "    <tr>\n",
              "      <th>4</th>\n",
              "      <td>facebook</td>\n",
              "      <td>500</td>\n",
              "      <td>site3</td>\n",
              "      <td>300.00</td>\n",
              "      <td>200</td>\n",
              "    </tr>\n",
              "  </tbody>\n",
              "</table>\n",
              "</div>"
            ],
            "text/plain": [
              "  canal_venda  acessos   site   vendas  lista\n",
              "0    facebook      100  site1  1000.52    200\n",
              "1     twitter      200  site1  1052.34    200\n",
              "2   instagram      300  site2  2002.00    300\n",
              "3    linkedin      400  site2  5000.00    800\n",
              "4    facebook      500  site3   300.00    200"
            ]
          },
          "metadata": {
            "tags": []
          },
          "execution_count": 96
        }
      ]
    },
    {
      "cell_type": "code",
      "metadata": {
        "id": "Nn1eyRg43wLn",
        "colab_type": "code",
        "outputId": "9779c04e-5805-468c-df5c-ed5f62cc4e7a",
        "colab": {}
      },
      "source": [
        "aux.reset_index()"
      ],
      "execution_count": 0,
      "outputs": [
        {
          "output_type": "execute_result",
          "data": {
            "text/html": [
              "<div>\n",
              "<style scoped>\n",
              "    .dataframe tbody tr th:only-of-type {\n",
              "        vertical-align: middle;\n",
              "    }\n",
              "\n",
              "    .dataframe tbody tr th {\n",
              "        vertical-align: top;\n",
              "    }\n",
              "\n",
              "    .dataframe thead th {\n",
              "        text-align: right;\n",
              "    }\n",
              "</style>\n",
              "<table border=\"1\" class=\"dataframe\">\n",
              "  <thead>\n",
              "    <tr style=\"text-align: right;\">\n",
              "      <th></th>\n",
              "      <th>level_0</th>\n",
              "      <th>index</th>\n",
              "      <th>canal_venda</th>\n",
              "      <th>acessos</th>\n",
              "      <th>site</th>\n",
              "      <th>vendas</th>\n",
              "      <th>lista</th>\n",
              "    </tr>\n",
              "  </thead>\n",
              "  <tbody>\n",
              "    <tr>\n",
              "      <th>0</th>\n",
              "      <td>0</td>\n",
              "      <td>0</td>\n",
              "      <td>facebook</td>\n",
              "      <td>100</td>\n",
              "      <td>site1</td>\n",
              "      <td>1000.52</td>\n",
              "      <td>200</td>\n",
              "    </tr>\n",
              "    <tr>\n",
              "      <th>1</th>\n",
              "      <td>1</td>\n",
              "      <td>1</td>\n",
              "      <td>twitter</td>\n",
              "      <td>200</td>\n",
              "      <td>site1</td>\n",
              "      <td>1052.34</td>\n",
              "      <td>200</td>\n",
              "    </tr>\n",
              "    <tr>\n",
              "      <th>2</th>\n",
              "      <td>2</td>\n",
              "      <td>2</td>\n",
              "      <td>instagram</td>\n",
              "      <td>300</td>\n",
              "      <td>site2</td>\n",
              "      <td>2002.00</td>\n",
              "      <td>300</td>\n",
              "    </tr>\n",
              "    <tr>\n",
              "      <th>3</th>\n",
              "      <td>3</td>\n",
              "      <td>3</td>\n",
              "      <td>linkedin</td>\n",
              "      <td>400</td>\n",
              "      <td>site2</td>\n",
              "      <td>5000.00</td>\n",
              "      <td>800</td>\n",
              "    </tr>\n",
              "    <tr>\n",
              "      <th>4</th>\n",
              "      <td>4</td>\n",
              "      <td>4</td>\n",
              "      <td>facebook</td>\n",
              "      <td>500</td>\n",
              "      <td>site3</td>\n",
              "      <td>300.00</td>\n",
              "      <td>200</td>\n",
              "    </tr>\n",
              "  </tbody>\n",
              "</table>\n",
              "</div>"
            ],
            "text/plain": [
              "   level_0  index canal_venda  acessos   site   vendas  lista\n",
              "0        0      0    facebook      100  site1  1000.52    200\n",
              "1        1      1     twitter      200  site1  1052.34    200\n",
              "2        2      2   instagram      300  site2  2002.00    300\n",
              "3        3      3    linkedin      400  site2  5000.00    800\n",
              "4        4      4    facebook      500  site3   300.00    200"
            ]
          },
          "metadata": {
            "tags": []
          },
          "execution_count": 95
        }
      ]
    },
    {
      "cell_type": "code",
      "metadata": {
        "id": "NS2vfww73wLv",
        "colab_type": "code",
        "outputId": "c2f1d2ac-a408-40a9-a235-07f585635cf3",
        "colab": {}
      },
      "source": [
        "aux"
      ],
      "execution_count": 0,
      "outputs": [
        {
          "output_type": "execute_result",
          "data": {
            "text/html": [
              "<div>\n",
              "<style scoped>\n",
              "    .dataframe tbody tr th:only-of-type {\n",
              "        vertical-align: middle;\n",
              "    }\n",
              "\n",
              "    .dataframe tbody tr th {\n",
              "        vertical-align: top;\n",
              "    }\n",
              "\n",
              "    .dataframe thead th {\n",
              "        text-align: right;\n",
              "    }\n",
              "</style>\n",
              "<table border=\"1\" class=\"dataframe\">\n",
              "  <thead>\n",
              "    <tr style=\"text-align: right;\">\n",
              "      <th>site</th>\n",
              "      <th>site1</th>\n",
              "      <th>site2</th>\n",
              "      <th>site3</th>\n",
              "    </tr>\n",
              "    <tr>\n",
              "      <th>canal_venda</th>\n",
              "      <th></th>\n",
              "      <th></th>\n",
              "      <th></th>\n",
              "    </tr>\n",
              "  </thead>\n",
              "  <tbody>\n",
              "    <tr>\n",
              "      <th>facebook</th>\n",
              "      <td>100.0</td>\n",
              "      <td>0.0</td>\n",
              "      <td>500.0</td>\n",
              "    </tr>\n",
              "    <tr>\n",
              "      <th>instagram</th>\n",
              "      <td>0.0</td>\n",
              "      <td>300.0</td>\n",
              "      <td>0.0</td>\n",
              "    </tr>\n",
              "    <tr>\n",
              "      <th>linkedin</th>\n",
              "      <td>0.0</td>\n",
              "      <td>400.0</td>\n",
              "      <td>0.0</td>\n",
              "    </tr>\n",
              "    <tr>\n",
              "      <th>twitter</th>\n",
              "      <td>200.0</td>\n",
              "      <td>0.0</td>\n",
              "      <td>0.0</td>\n",
              "    </tr>\n",
              "  </tbody>\n",
              "</table>\n",
              "</div>"
            ],
            "text/plain": [
              "site         site1  site2  site3\n",
              "canal_venda                     \n",
              "facebook     100.0    0.0  500.0\n",
              "instagram      0.0  300.0    0.0\n",
              "linkedin       0.0  400.0    0.0\n",
              "twitter      200.0    0.0    0.0"
            ]
          },
          "metadata": {
            "tags": []
          },
          "execution_count": 99
        }
      ]
    },
    {
      "cell_type": "code",
      "metadata": {
        "id": "07DblmCY3wLy",
        "colab_type": "code",
        "outputId": "e7178384-d22e-4049-cf6d-bfc1805e3347",
        "colab": {}
      },
      "source": [
        "#Exemplo do comando melt\n",
        "aux.melt(id_vars='canal_venda', value_vars=['site1', 'site2', 'site3'])"
      ],
      "execution_count": 0,
      "outputs": [
        {
          "output_type": "execute_result",
          "data": {
            "text/html": [
              "<div>\n",
              "<style scoped>\n",
              "    .dataframe tbody tr th:only-of-type {\n",
              "        vertical-align: middle;\n",
              "    }\n",
              "\n",
              "    .dataframe tbody tr th {\n",
              "        vertical-align: top;\n",
              "    }\n",
              "\n",
              "    .dataframe thead th {\n",
              "        text-align: right;\n",
              "    }\n",
              "</style>\n",
              "<table border=\"1\" class=\"dataframe\">\n",
              "  <thead>\n",
              "    <tr style=\"text-align: right;\">\n",
              "      <th></th>\n",
              "      <th>canal_venda</th>\n",
              "      <th>site</th>\n",
              "      <th>value</th>\n",
              "    </tr>\n",
              "  </thead>\n",
              "  <tbody>\n",
              "    <tr>\n",
              "      <th>0</th>\n",
              "      <td>facebook</td>\n",
              "      <td>site1</td>\n",
              "      <td>100.0</td>\n",
              "    </tr>\n",
              "    <tr>\n",
              "      <th>1</th>\n",
              "      <td>instagram</td>\n",
              "      <td>site1</td>\n",
              "      <td>0.0</td>\n",
              "    </tr>\n",
              "    <tr>\n",
              "      <th>2</th>\n",
              "      <td>linkedin</td>\n",
              "      <td>site1</td>\n",
              "      <td>0.0</td>\n",
              "    </tr>\n",
              "    <tr>\n",
              "      <th>3</th>\n",
              "      <td>twitter</td>\n",
              "      <td>site1</td>\n",
              "      <td>200.0</td>\n",
              "    </tr>\n",
              "    <tr>\n",
              "      <th>4</th>\n",
              "      <td>facebook</td>\n",
              "      <td>site2</td>\n",
              "      <td>0.0</td>\n",
              "    </tr>\n",
              "    <tr>\n",
              "      <th>5</th>\n",
              "      <td>instagram</td>\n",
              "      <td>site2</td>\n",
              "      <td>300.0</td>\n",
              "    </tr>\n",
              "    <tr>\n",
              "      <th>6</th>\n",
              "      <td>linkedin</td>\n",
              "      <td>site2</td>\n",
              "      <td>400.0</td>\n",
              "    </tr>\n",
              "    <tr>\n",
              "      <th>7</th>\n",
              "      <td>twitter</td>\n",
              "      <td>site2</td>\n",
              "      <td>0.0</td>\n",
              "    </tr>\n",
              "    <tr>\n",
              "      <th>8</th>\n",
              "      <td>facebook</td>\n",
              "      <td>site3</td>\n",
              "      <td>500.0</td>\n",
              "    </tr>\n",
              "    <tr>\n",
              "      <th>9</th>\n",
              "      <td>instagram</td>\n",
              "      <td>site3</td>\n",
              "      <td>0.0</td>\n",
              "    </tr>\n",
              "    <tr>\n",
              "      <th>10</th>\n",
              "      <td>linkedin</td>\n",
              "      <td>site3</td>\n",
              "      <td>0.0</td>\n",
              "    </tr>\n",
              "    <tr>\n",
              "      <th>11</th>\n",
              "      <td>twitter</td>\n",
              "      <td>site3</td>\n",
              "      <td>0.0</td>\n",
              "    </tr>\n",
              "  </tbody>\n",
              "</table>\n",
              "</div>"
            ],
            "text/plain": [
              "   canal_venda   site  value\n",
              "0     facebook  site1  100.0\n",
              "1    instagram  site1    0.0\n",
              "2     linkedin  site1    0.0\n",
              "3      twitter  site1  200.0\n",
              "4     facebook  site2    0.0\n",
              "5    instagram  site2  300.0\n",
              "6     linkedin  site2  400.0\n",
              "7      twitter  site2    0.0\n",
              "8     facebook  site3  500.0\n",
              "9    instagram  site3    0.0\n",
              "10    linkedin  site3    0.0\n",
              "11     twitter  site3    0.0"
            ]
          },
          "metadata": {
            "tags": []
          },
          "execution_count": 41
        }
      ]
    },
    {
      "cell_type": "code",
      "metadata": {
        "id": "js1Ztd6-3wLz",
        "colab_type": "code",
        "outputId": "be544355-7c0f-453c-8061-685d850e8502",
        "colab": {}
      },
      "source": [
        "dataframe"
      ],
      "execution_count": 0,
      "outputs": [
        {
          "output_type": "execute_result",
          "data": {
            "text/html": [
              "<div>\n",
              "<style scoped>\n",
              "    .dataframe tbody tr th:only-of-type {\n",
              "        vertical-align: middle;\n",
              "    }\n",
              "\n",
              "    .dataframe tbody tr th {\n",
              "        vertical-align: top;\n",
              "    }\n",
              "\n",
              "    .dataframe thead th {\n",
              "        text-align: right;\n",
              "    }\n",
              "</style>\n",
              "<table border=\"1\" class=\"dataframe\">\n",
              "  <thead>\n",
              "    <tr style=\"text-align: right;\">\n",
              "      <th></th>\n",
              "      <th>canal_venda</th>\n",
              "      <th>acessos</th>\n",
              "      <th>site</th>\n",
              "      <th>vendas</th>\n",
              "      <th>lista</th>\n",
              "    </tr>\n",
              "  </thead>\n",
              "  <tbody>\n",
              "    <tr>\n",
              "      <th>0</th>\n",
              "      <td>facebook</td>\n",
              "      <td>100</td>\n",
              "      <td>site1</td>\n",
              "      <td>1000.52</td>\n",
              "      <td>200</td>\n",
              "    </tr>\n",
              "    <tr>\n",
              "      <th>1</th>\n",
              "      <td>twitter</td>\n",
              "      <td>200</td>\n",
              "      <td>site1</td>\n",
              "      <td>1052.34</td>\n",
              "      <td>200</td>\n",
              "    </tr>\n",
              "    <tr>\n",
              "      <th>2</th>\n",
              "      <td>instagram</td>\n",
              "      <td>300</td>\n",
              "      <td>site2</td>\n",
              "      <td>2002.00</td>\n",
              "      <td>300</td>\n",
              "    </tr>\n",
              "    <tr>\n",
              "      <th>3</th>\n",
              "      <td>linkedin</td>\n",
              "      <td>400</td>\n",
              "      <td>site2</td>\n",
              "      <td>5000.00</td>\n",
              "      <td>800</td>\n",
              "    </tr>\n",
              "    <tr>\n",
              "      <th>4</th>\n",
              "      <td>facebook</td>\n",
              "      <td>500</td>\n",
              "      <td>site3</td>\n",
              "      <td>300.00</td>\n",
              "      <td>200</td>\n",
              "    </tr>\n",
              "  </tbody>\n",
              "</table>\n",
              "</div>"
            ],
            "text/plain": [
              "  canal_venda  acessos   site   vendas  lista\n",
              "0    facebook      100  site1  1000.52    200\n",
              "1     twitter      200  site1  1052.34    200\n",
              "2   instagram      300  site2  2002.00    300\n",
              "3    linkedin      400  site2  5000.00    800\n",
              "4    facebook      500  site3   300.00    200"
            ]
          },
          "metadata": {
            "tags": []
          },
          "execution_count": 101
        }
      ]
    },
    {
      "cell_type": "code",
      "metadata": {
        "id": "KVrInPck3wL3",
        "colab_type": "code",
        "outputId": "d21533ac-e9c7-444b-da6b-920ac86041cb",
        "colab": {}
      },
      "source": [
        "#Somando as colunas do dataframe\n",
        "dataframe.sum()"
      ],
      "execution_count": 0,
      "outputs": [
        {
          "output_type": "execute_result",
          "data": {
            "text/plain": [
              "canal_venda    facebooktwitterinstagramlinkedinfacebook\n",
              "acessos                                            1500\n",
              "site                          site1site1site2site2site3\n",
              "vendas                                          9354.86\n",
              "lista                                              1700\n",
              "dtype: object"
            ]
          },
          "metadata": {
            "tags": []
          },
          "execution_count": 100
        }
      ]
    },
    {
      "cell_type": "code",
      "metadata": {
        "id": "n6P6U_Ze3wL7",
        "colab_type": "code",
        "outputId": "203a5363-1f05-44bb-dcc5-3806c6322d46",
        "colab": {}
      },
      "source": [
        "dataframe"
      ],
      "execution_count": 0,
      "outputs": [
        {
          "output_type": "execute_result",
          "data": {
            "text/html": [
              "<div>\n",
              "<style scoped>\n",
              "    .dataframe tbody tr th:only-of-type {\n",
              "        vertical-align: middle;\n",
              "    }\n",
              "\n",
              "    .dataframe tbody tr th {\n",
              "        vertical-align: top;\n",
              "    }\n",
              "\n",
              "    .dataframe thead th {\n",
              "        text-align: right;\n",
              "    }\n",
              "</style>\n",
              "<table border=\"1\" class=\"dataframe\">\n",
              "  <thead>\n",
              "    <tr style=\"text-align: right;\">\n",
              "      <th></th>\n",
              "      <th>canal_venda</th>\n",
              "      <th>acessos</th>\n",
              "      <th>site</th>\n",
              "      <th>vendas</th>\n",
              "      <th>lista</th>\n",
              "    </tr>\n",
              "  </thead>\n",
              "  <tbody>\n",
              "    <tr>\n",
              "      <th>0</th>\n",
              "      <td>facebook</td>\n",
              "      <td>100</td>\n",
              "      <td>site1</td>\n",
              "      <td>1000.52</td>\n",
              "      <td>200</td>\n",
              "    </tr>\n",
              "    <tr>\n",
              "      <th>1</th>\n",
              "      <td>twitter</td>\n",
              "      <td>200</td>\n",
              "      <td>site1</td>\n",
              "      <td>1052.34</td>\n",
              "      <td>200</td>\n",
              "    </tr>\n",
              "    <tr>\n",
              "      <th>2</th>\n",
              "      <td>instagram</td>\n",
              "      <td>300</td>\n",
              "      <td>site2</td>\n",
              "      <td>2002.00</td>\n",
              "      <td>300</td>\n",
              "    </tr>\n",
              "    <tr>\n",
              "      <th>3</th>\n",
              "      <td>linkedin</td>\n",
              "      <td>400</td>\n",
              "      <td>site2</td>\n",
              "      <td>5000.00</td>\n",
              "      <td>800</td>\n",
              "    </tr>\n",
              "    <tr>\n",
              "      <th>4</th>\n",
              "      <td>facebook</td>\n",
              "      <td>500</td>\n",
              "      <td>site3</td>\n",
              "      <td>300.00</td>\n",
              "      <td>200</td>\n",
              "    </tr>\n",
              "  </tbody>\n",
              "</table>\n",
              "</div>"
            ],
            "text/plain": [
              "  canal_venda  acessos   site   vendas  lista\n",
              "0    facebook      100  site1  1000.52    200\n",
              "1     twitter      200  site1  1052.34    200\n",
              "2   instagram      300  site2  2002.00    300\n",
              "3    linkedin      400  site2  5000.00    800\n",
              "4    facebook      500  site3   300.00    200"
            ]
          },
          "metadata": {
            "tags": []
          },
          "execution_count": 102
        }
      ]
    },
    {
      "cell_type": "code",
      "metadata": {
        "id": "VRM-QpQo3wL9",
        "colab_type": "code",
        "outputId": "2e768b40-2570-400d-b46f-4ede533e2a91",
        "colab": {}
      },
      "source": [
        "#Somando as linhas do dataframe\n",
        "dataframe.sum(axis = 1)"
      ],
      "execution_count": 0,
      "outputs": [
        {
          "output_type": "execute_result",
          "data": {
            "text/plain": [
              "0    1300.52\n",
              "1    1452.34\n",
              "2    2602.00\n",
              "3    6200.00\n",
              "4    1000.00\n",
              "dtype: float64"
            ]
          },
          "metadata": {
            "tags": []
          },
          "execution_count": 44
        }
      ]
    },
    {
      "cell_type": "code",
      "metadata": {
        "id": "Zyb5Xqy53wL_",
        "colab_type": "code",
        "outputId": "5f9cc330-c4fd-4ac6-db40-bd892fd97cfa",
        "colab": {}
      },
      "source": [
        "#Calculando a mediana das colunas numericas\n",
        "print('Por linha: ',dataframe.median(axis= 1) )\n",
        "print('Por coluna: ', dataframe.median())"
      ],
      "execution_count": 0,
      "outputs": [
        {
          "output_type": "stream",
          "text": [
            "Por linha:  0    200.0\n",
            "1    200.0\n",
            "2    300.0\n",
            "3    800.0\n",
            "4    300.0\n",
            "dtype: float64\n",
            "Por coluna:  acessos     300.00\n",
            "vendas     1052.34\n",
            "lista       200.00\n",
            "dtype: float64\n"
          ],
          "name": "stdout"
        }
      ]
    },
    {
      "cell_type": "code",
      "metadata": {
        "id": "67Ti0Fpm3wMC",
        "colab_type": "code",
        "outputId": "c3d9b330-cc47-402f-bfc9-61e8354f98b4",
        "colab": {}
      },
      "source": [
        "#Calculando a media das colunas númericas\n",
        "dataframe.mean()"
      ],
      "execution_count": 0,
      "outputs": [
        {
          "output_type": "execute_result",
          "data": {
            "text/plain": [
              "acessos     300.000\n",
              "vendas     1870.972\n",
              "lista       340.000\n",
              "dtype: float64"
            ]
          },
          "metadata": {
            "tags": []
          },
          "execution_count": 46
        }
      ]
    },
    {
      "cell_type": "code",
      "metadata": {
        "id": "vTR5T9BB3wME",
        "colab_type": "code",
        "outputId": "b7dd6110-c3c4-457f-e9da-3843e40ab0bb",
        "colab": {}
      },
      "source": [
        "#Calculando o desvio padrão das colunas numericas\n",
        "dataframe.std()"
      ],
      "execution_count": 0,
      "outputs": [
        {
          "output_type": "execute_result",
          "data": {
            "text/plain": [
              "acessos     158.113883\n",
              "vendas     1850.931024\n",
              "lista       260.768096\n",
              "dtype: float64"
            ]
          },
          "metadata": {
            "tags": []
          },
          "execution_count": 47
        }
      ]
    },
    {
      "cell_type": "code",
      "metadata": {
        "id": "4H7Lqi3e3wMF",
        "colab_type": "code",
        "outputId": "a0836ddd-e741-420e-97e4-5a1309a023e7",
        "colab": {}
      },
      "source": [
        "#Usando o comando describe que calcula estatisticas descritivas para colunas numericas\n",
        "dataframe.describe()"
      ],
      "execution_count": 0,
      "outputs": [
        {
          "output_type": "execute_result",
          "data": {
            "text/html": [
              "<div>\n",
              "<style scoped>\n",
              "    .dataframe tbody tr th:only-of-type {\n",
              "        vertical-align: middle;\n",
              "    }\n",
              "\n",
              "    .dataframe tbody tr th {\n",
              "        vertical-align: top;\n",
              "    }\n",
              "\n",
              "    .dataframe thead th {\n",
              "        text-align: right;\n",
              "    }\n",
              "</style>\n",
              "<table border=\"1\" class=\"dataframe\">\n",
              "  <thead>\n",
              "    <tr style=\"text-align: right;\">\n",
              "      <th></th>\n",
              "      <th>acessos</th>\n",
              "      <th>vendas</th>\n",
              "      <th>lista</th>\n",
              "    </tr>\n",
              "  </thead>\n",
              "  <tbody>\n",
              "    <tr>\n",
              "      <th>count</th>\n",
              "      <td>5.000000</td>\n",
              "      <td>5.000000</td>\n",
              "      <td>5.000000</td>\n",
              "    </tr>\n",
              "    <tr>\n",
              "      <th>mean</th>\n",
              "      <td>300.000000</td>\n",
              "      <td>1870.972000</td>\n",
              "      <td>340.000000</td>\n",
              "    </tr>\n",
              "    <tr>\n",
              "      <th>std</th>\n",
              "      <td>158.113883</td>\n",
              "      <td>1850.931024</td>\n",
              "      <td>260.768096</td>\n",
              "    </tr>\n",
              "    <tr>\n",
              "      <th>min</th>\n",
              "      <td>100.000000</td>\n",
              "      <td>300.000000</td>\n",
              "      <td>200.000000</td>\n",
              "    </tr>\n",
              "    <tr>\n",
              "      <th>25%</th>\n",
              "      <td>200.000000</td>\n",
              "      <td>1000.520000</td>\n",
              "      <td>200.000000</td>\n",
              "    </tr>\n",
              "    <tr>\n",
              "      <th>50%</th>\n",
              "      <td>300.000000</td>\n",
              "      <td>1052.340000</td>\n",
              "      <td>200.000000</td>\n",
              "    </tr>\n",
              "    <tr>\n",
              "      <th>75%</th>\n",
              "      <td>400.000000</td>\n",
              "      <td>2002.000000</td>\n",
              "      <td>300.000000</td>\n",
              "    </tr>\n",
              "    <tr>\n",
              "      <th>max</th>\n",
              "      <td>500.000000</td>\n",
              "      <td>5000.000000</td>\n",
              "      <td>800.000000</td>\n",
              "    </tr>\n",
              "  </tbody>\n",
              "</table>\n",
              "</div>"
            ],
            "text/plain": [
              "          acessos       vendas       lista\n",
              "count    5.000000     5.000000    5.000000\n",
              "mean   300.000000  1870.972000  340.000000\n",
              "std    158.113883  1850.931024  260.768096\n",
              "min    100.000000   300.000000  200.000000\n",
              "25%    200.000000  1000.520000  200.000000\n",
              "50%    300.000000  1052.340000  200.000000\n",
              "75%    400.000000  2002.000000  300.000000\n",
              "max    500.000000  5000.000000  800.000000"
            ]
          },
          "metadata": {
            "tags": []
          },
          "execution_count": 48
        }
      ]
    },
    {
      "cell_type": "code",
      "metadata": {
        "id": "EG5IEBl43wMH",
        "colab_type": "code",
        "outputId": "52281258-2ade-441f-c6f5-dc57a7d4c6c9",
        "colab": {}
      },
      "source": [
        "#Calculando a moda\n",
        "dataframe.mode()"
      ],
      "execution_count": 0,
      "outputs": [
        {
          "output_type": "execute_result",
          "data": {
            "text/html": [
              "<div>\n",
              "<style scoped>\n",
              "    .dataframe tbody tr th:only-of-type {\n",
              "        vertical-align: middle;\n",
              "    }\n",
              "\n",
              "    .dataframe tbody tr th {\n",
              "        vertical-align: top;\n",
              "    }\n",
              "\n",
              "    .dataframe thead th {\n",
              "        text-align: right;\n",
              "    }\n",
              "</style>\n",
              "<table border=\"1\" class=\"dataframe\">\n",
              "  <thead>\n",
              "    <tr style=\"text-align: right;\">\n",
              "      <th></th>\n",
              "      <th>canal_venda</th>\n",
              "      <th>acessos</th>\n",
              "      <th>site</th>\n",
              "      <th>vendas</th>\n",
              "      <th>lista</th>\n",
              "    </tr>\n",
              "  </thead>\n",
              "  <tbody>\n",
              "    <tr>\n",
              "      <th>0</th>\n",
              "      <td>facebook</td>\n",
              "      <td>100</td>\n",
              "      <td>site1</td>\n",
              "      <td>300.00</td>\n",
              "      <td>200.0</td>\n",
              "    </tr>\n",
              "    <tr>\n",
              "      <th>1</th>\n",
              "      <td>NaN</td>\n",
              "      <td>200</td>\n",
              "      <td>site2</td>\n",
              "      <td>1000.52</td>\n",
              "      <td>NaN</td>\n",
              "    </tr>\n",
              "    <tr>\n",
              "      <th>2</th>\n",
              "      <td>NaN</td>\n",
              "      <td>300</td>\n",
              "      <td>NaN</td>\n",
              "      <td>1052.34</td>\n",
              "      <td>NaN</td>\n",
              "    </tr>\n",
              "    <tr>\n",
              "      <th>3</th>\n",
              "      <td>NaN</td>\n",
              "      <td>400</td>\n",
              "      <td>NaN</td>\n",
              "      <td>2002.00</td>\n",
              "      <td>NaN</td>\n",
              "    </tr>\n",
              "    <tr>\n",
              "      <th>4</th>\n",
              "      <td>NaN</td>\n",
              "      <td>500</td>\n",
              "      <td>NaN</td>\n",
              "      <td>5000.00</td>\n",
              "      <td>NaN</td>\n",
              "    </tr>\n",
              "  </tbody>\n",
              "</table>\n",
              "</div>"
            ],
            "text/plain": [
              "  canal_venda  acessos   site   vendas  lista\n",
              "0    facebook      100  site1   300.00  200.0\n",
              "1         NaN      200  site2  1000.52    NaN\n",
              "2         NaN      300    NaN  1052.34    NaN\n",
              "3         NaN      400    NaN  2002.00    NaN\n",
              "4         NaN      500    NaN  5000.00    NaN"
            ]
          },
          "metadata": {
            "tags": []
          },
          "execution_count": 49
        }
      ]
    },
    {
      "cell_type": "code",
      "metadata": {
        "id": "rOACUlzR3wMJ",
        "colab_type": "code",
        "outputId": "bc1fe2d4-aad3-42cf-9ec9-3b4836ef590e",
        "colab": {}
      },
      "source": [
        "# Valor maximo por coluna\n",
        "dataframe.max()"
      ],
      "execution_count": 0,
      "outputs": [
        {
          "output_type": "execute_result",
          "data": {
            "text/plain": [
              "canal_venda    twitter\n",
              "acessos            500\n",
              "site             site3\n",
              "vendas            5000\n",
              "lista              800\n",
              "dtype: object"
            ]
          },
          "metadata": {
            "tags": []
          },
          "execution_count": 50
        }
      ]
    },
    {
      "cell_type": "code",
      "metadata": {
        "id": "PjSYe4Yc3wML",
        "colab_type": "code",
        "outputId": "3cbc2ab5-d49a-4a9d-c221-2f328470a7d5",
        "colab": {}
      },
      "source": [
        "#Valor minimo por coluna\n",
        "dataframe.min()"
      ],
      "execution_count": 0,
      "outputs": [
        {
          "output_type": "execute_result",
          "data": {
            "text/plain": [
              "canal_venda    facebook\n",
              "acessos             100\n",
              "site              site1\n",
              "vendas              300\n",
              "lista               200\n",
              "dtype: object"
            ]
          },
          "metadata": {
            "tags": []
          },
          "execution_count": 215
        }
      ]
    },
    {
      "cell_type": "code",
      "metadata": {
        "id": "bGPFn8_K3wMN",
        "colab_type": "code",
        "outputId": "7adac1bc-059a-4b63-ad19-5c6c2224e2fc",
        "colab": {}
      },
      "source": [
        "#Printando o numero de unicos\n",
        "dataframe.nunique()"
      ],
      "execution_count": 0,
      "outputs": [
        {
          "output_type": "execute_result",
          "data": {
            "text/plain": [
              "canal_venda    4\n",
              "acessos        5\n",
              "site           3\n",
              "vendas         5\n",
              "lista          3\n",
              "dtype: int64"
            ]
          },
          "metadata": {
            "tags": []
          },
          "execution_count": 217
        }
      ]
    },
    {
      "cell_type": "code",
      "metadata": {
        "id": "lTnK-HkI3wMR",
        "colab_type": "code",
        "outputId": "ce1720e2-9ebd-4548-b20b-f1dee0b3fb8e",
        "colab": {}
      },
      "source": [
        "#Contando valores unicos de uma coluna\n",
        "dataframe['canal_venda'].value_counts()"
      ],
      "execution_count": 0,
      "outputs": [
        {
          "output_type": "execute_result",
          "data": {
            "text/plain": [
              "facebook     2\n",
              "linkedin     1\n",
              "instagram    1\n",
              "twitter      1\n",
              "Name: canal_venda, dtype: int64"
            ]
          },
          "metadata": {
            "tags": []
          },
          "execution_count": 221
        }
      ]
    },
    {
      "cell_type": "code",
      "metadata": {
        "id": "72-xm1x03wMT",
        "colab_type": "code",
        "outputId": "f9c2c2ca-376b-4d19-b453-3938765fa7a0",
        "colab": {}
      },
      "source": [
        "#Valores unicos de uma coluna\n",
        "dataframe['canal_venda'].unique()"
      ],
      "execution_count": 0,
      "outputs": [
        {
          "output_type": "execute_result",
          "data": {
            "text/plain": [
              "array(['facebook', 'twitter', 'instagram', 'linkedin'], dtype=object)"
            ]
          },
          "metadata": {
            "tags": []
          },
          "execution_count": 222
        }
      ]
    },
    {
      "cell_type": "code",
      "metadata": {
        "id": "ZWLgna_L3wMV",
        "colab_type": "code",
        "outputId": "56f16a50-c66a-416f-a4b4-43b024fe720e",
        "colab": {}
      },
      "source": [
        "# Usando o groupby com valores numericos\n",
        "dataframe.groupby('site')['acessos'].sum()"
      ],
      "execution_count": 0,
      "outputs": [
        {
          "output_type": "execute_result",
          "data": {
            "text/plain": [
              "site\n",
              "site1    300\n",
              "site2    700\n",
              "site3    500\n",
              "Name: acessos, dtype: int64"
            ]
          },
          "metadata": {
            "tags": []
          },
          "execution_count": 225
        }
      ]
    },
    {
      "cell_type": "code",
      "metadata": {
        "id": "DEu6ksbB3wMX",
        "colab_type": "code",
        "outputId": "2306e57c-e8a5-4341-8807-e448fedb683a",
        "colab": {}
      },
      "source": [
        "# Usando o groupby com valores numericos\n",
        "dataframe.groupby('canal_venda')['acessos'].median()"
      ],
      "execution_count": 0,
      "outputs": [
        {
          "output_type": "execute_result",
          "data": {
            "text/plain": [
              "canal_venda\n",
              "facebook     300\n",
              "instagram    300\n",
              "linkedin     400\n",
              "twitter      200\n",
              "Name: acessos, dtype: int64"
            ]
          },
          "metadata": {
            "tags": []
          },
          "execution_count": 108
        }
      ]
    },
    {
      "cell_type": "code",
      "metadata": {
        "id": "-xtoKSPZ3wMZ",
        "colab_type": "code",
        "outputId": "e04b9a3d-5874-4c03-bc8f-2f5a0e292d0d",
        "colab": {}
      },
      "source": [
        "# Usando o groupby com categoricos\n",
        "dataframe.groupby('site')['canal_venda'].unique()"
      ],
      "execution_count": 0,
      "outputs": [
        {
          "output_type": "execute_result",
          "data": {
            "text/plain": [
              "site\n",
              "site1      [facebook, twitter]\n",
              "site2    [instagram, linkedin]\n",
              "site3               [facebook]\n",
              "Name: canal_venda, dtype: object"
            ]
          },
          "metadata": {
            "tags": []
          },
          "execution_count": 229
        }
      ]
    },
    {
      "cell_type": "code",
      "metadata": {
        "id": "yYolh9wZ3wMc",
        "colab_type": "code",
        "outputId": "c435ca37-c603-4945-a2af-4c7b7ff4a7ae",
        "colab": {}
      },
      "source": [
        "# Usando o groupby com categoricos\n",
        "dataframe.groupby('site')['canal_venda'].first()"
      ],
      "execution_count": 0,
      "outputs": [
        {
          "output_type": "execute_result",
          "data": {
            "text/plain": [
              "site\n",
              "site1     facebook\n",
              "site2    instagram\n",
              "site3     facebook\n",
              "Name: canal_venda, dtype: object"
            ]
          },
          "metadata": {
            "tags": []
          },
          "execution_count": 230
        }
      ]
    },
    {
      "cell_type": "code",
      "metadata": {
        "id": "IOZELpTr3wMe",
        "colab_type": "code",
        "outputId": "5a95c3aa-d3ab-4b21-9744-1a2177e00adc",
        "colab": {}
      },
      "source": [
        "#Usando o groupby com a função agg\n",
        "dataframe.groupby('canal_venda').agg({'site': 'unique',\n",
        "                                     'acessos': 'sum'})\n"
      ],
      "execution_count": 0,
      "outputs": [
        {
          "output_type": "execute_result",
          "data": {
            "text/html": [
              "<div>\n",
              "<style scoped>\n",
              "    .dataframe tbody tr th:only-of-type {\n",
              "        vertical-align: middle;\n",
              "    }\n",
              "\n",
              "    .dataframe tbody tr th {\n",
              "        vertical-align: top;\n",
              "    }\n",
              "\n",
              "    .dataframe thead th {\n",
              "        text-align: right;\n",
              "    }\n",
              "</style>\n",
              "<table border=\"1\" class=\"dataframe\">\n",
              "  <thead>\n",
              "    <tr style=\"text-align: right;\">\n",
              "      <th></th>\n",
              "      <th>site</th>\n",
              "      <th>acessos</th>\n",
              "    </tr>\n",
              "    <tr>\n",
              "      <th>canal_venda</th>\n",
              "      <th></th>\n",
              "      <th></th>\n",
              "    </tr>\n",
              "  </thead>\n",
              "  <tbody>\n",
              "    <tr>\n",
              "      <th>facebook</th>\n",
              "      <td>[site1, site3]</td>\n",
              "      <td>600</td>\n",
              "    </tr>\n",
              "    <tr>\n",
              "      <th>instagram</th>\n",
              "      <td>[site2]</td>\n",
              "      <td>300</td>\n",
              "    </tr>\n",
              "    <tr>\n",
              "      <th>linkedin</th>\n",
              "      <td>[site2]</td>\n",
              "      <td>400</td>\n",
              "    </tr>\n",
              "    <tr>\n",
              "      <th>twitter</th>\n",
              "      <td>[site1]</td>\n",
              "      <td>200</td>\n",
              "    </tr>\n",
              "  </tbody>\n",
              "</table>\n",
              "</div>"
            ],
            "text/plain": [
              "                       site  acessos\n",
              "canal_venda                         \n",
              "facebook     [site1, site3]      600\n",
              "instagram           [site2]      300\n",
              "linkedin            [site2]      400\n",
              "twitter             [site1]      200"
            ]
          },
          "metadata": {
            "tags": []
          },
          "execution_count": 109
        }
      ]
    },
    {
      "cell_type": "code",
      "metadata": {
        "id": "D-Jb8yIb3wMg",
        "colab_type": "code",
        "outputId": "70fbe9f2-d7af-433c-b06a-b5fafb0ea6d5",
        "colab": {}
      },
      "source": [
        "#Correlações entre variaveis\n",
        "dataframe.corr(method = 'spearman')"
      ],
      "execution_count": 0,
      "outputs": [
        {
          "output_type": "execute_result",
          "data": {
            "text/html": [
              "<div>\n",
              "<style scoped>\n",
              "    .dataframe tbody tr th:only-of-type {\n",
              "        vertical-align: middle;\n",
              "    }\n",
              "\n",
              "    .dataframe tbody tr th {\n",
              "        vertical-align: top;\n",
              "    }\n",
              "\n",
              "    .dataframe thead th {\n",
              "        text-align: right;\n",
              "    }\n",
              "</style>\n",
              "<table border=\"1\" class=\"dataframe\">\n",
              "  <thead>\n",
              "    <tr style=\"text-align: right;\">\n",
              "      <th></th>\n",
              "      <th>acessos</th>\n",
              "      <th>vendas</th>\n",
              "      <th>lista</th>\n",
              "    </tr>\n",
              "  </thead>\n",
              "  <tbody>\n",
              "    <tr>\n",
              "      <th>acessos</th>\n",
              "      <td>1.00000</td>\n",
              "      <td>0.000000</td>\n",
              "      <td>0.335410</td>\n",
              "    </tr>\n",
              "    <tr>\n",
              "      <th>vendas</th>\n",
              "      <td>0.00000</td>\n",
              "      <td>1.000000</td>\n",
              "      <td>0.894427</td>\n",
              "    </tr>\n",
              "    <tr>\n",
              "      <th>lista</th>\n",
              "      <td>0.33541</td>\n",
              "      <td>0.894427</td>\n",
              "      <td>1.000000</td>\n",
              "    </tr>\n",
              "  </tbody>\n",
              "</table>\n",
              "</div>"
            ],
            "text/plain": [
              "         acessos    vendas     lista\n",
              "acessos  1.00000  0.000000  0.335410\n",
              "vendas   0.00000  1.000000  0.894427\n",
              "lista    0.33541  0.894427  1.000000"
            ]
          },
          "metadata": {
            "tags": []
          },
          "execution_count": 111
        }
      ]
    },
    {
      "cell_type": "code",
      "metadata": {
        "id": "349nZuRq3wMh",
        "colab_type": "code",
        "outputId": "72d00e9d-93d0-4246-a9eb-75896d668b20",
        "colab": {}
      },
      "source": [
        "dataframe"
      ],
      "execution_count": 0,
      "outputs": [
        {
          "output_type": "execute_result",
          "data": {
            "text/html": [
              "<div>\n",
              "<style scoped>\n",
              "    .dataframe tbody tr th:only-of-type {\n",
              "        vertical-align: middle;\n",
              "    }\n",
              "\n",
              "    .dataframe tbody tr th {\n",
              "        vertical-align: top;\n",
              "    }\n",
              "\n",
              "    .dataframe thead th {\n",
              "        text-align: right;\n",
              "    }\n",
              "</style>\n",
              "<table border=\"1\" class=\"dataframe\">\n",
              "  <thead>\n",
              "    <tr style=\"text-align: right;\">\n",
              "      <th></th>\n",
              "      <th>canal_venda</th>\n",
              "      <th>acessos</th>\n",
              "      <th>site</th>\n",
              "      <th>vendas</th>\n",
              "      <th>lista</th>\n",
              "    </tr>\n",
              "  </thead>\n",
              "  <tbody>\n",
              "    <tr>\n",
              "      <th>0</th>\n",
              "      <td>facebook</td>\n",
              "      <td>100</td>\n",
              "      <td>site1</td>\n",
              "      <td>1000.52</td>\n",
              "      <td>200</td>\n",
              "    </tr>\n",
              "    <tr>\n",
              "      <th>1</th>\n",
              "      <td>twitter</td>\n",
              "      <td>200</td>\n",
              "      <td>site1</td>\n",
              "      <td>1052.34</td>\n",
              "      <td>200</td>\n",
              "    </tr>\n",
              "    <tr>\n",
              "      <th>2</th>\n",
              "      <td>instagram</td>\n",
              "      <td>300</td>\n",
              "      <td>site2</td>\n",
              "      <td>2002.00</td>\n",
              "      <td>300</td>\n",
              "    </tr>\n",
              "    <tr>\n",
              "      <th>3</th>\n",
              "      <td>linkedin</td>\n",
              "      <td>400</td>\n",
              "      <td>site2</td>\n",
              "      <td>5000.00</td>\n",
              "      <td>800</td>\n",
              "    </tr>\n",
              "    <tr>\n",
              "      <th>4</th>\n",
              "      <td>facebook</td>\n",
              "      <td>500</td>\n",
              "      <td>site3</td>\n",
              "      <td>300.00</td>\n",
              "      <td>200</td>\n",
              "    </tr>\n",
              "  </tbody>\n",
              "</table>\n",
              "</div>"
            ],
            "text/plain": [
              "  canal_venda  acessos   site   vendas  lista\n",
              "0    facebook      100  site1  1000.52    200\n",
              "1     twitter      200  site1  1052.34    200\n",
              "2   instagram      300  site2  2002.00    300\n",
              "3    linkedin      400  site2  5000.00    800\n",
              "4    facebook      500  site3   300.00    200"
            ]
          },
          "metadata": {
            "tags": []
          },
          "execution_count": 112
        }
      ]
    },
    {
      "cell_type": "code",
      "metadata": {
        "id": "-5rZxIbo3wMj",
        "colab_type": "code",
        "colab": {}
      },
      "source": [
        "#Criando variaveis categoricas por fatia de variavel numerica\n",
        "dataframe['categoria_vendas'] = pd.cut(dataframe['vendas'],\n",
        "                                       bins= (0, 1500, 2000, 8000), \n",
        "                                       labels = ('0 a 1500', '1500 a 2000', '2000 a 8000'))"
      ],
      "execution_count": 0,
      "outputs": []
    },
    {
      "cell_type": "code",
      "metadata": {
        "id": "orEeUZzC3wMl",
        "colab_type": "code",
        "outputId": "e8404afb-00da-4fd1-f03f-58c3bee64ed2",
        "colab": {}
      },
      "source": [
        "dataframe"
      ],
      "execution_count": 0,
      "outputs": [
        {
          "output_type": "execute_result",
          "data": {
            "text/html": [
              "<div>\n",
              "<style scoped>\n",
              "    .dataframe tbody tr th:only-of-type {\n",
              "        vertical-align: middle;\n",
              "    }\n",
              "\n",
              "    .dataframe tbody tr th {\n",
              "        vertical-align: top;\n",
              "    }\n",
              "\n",
              "    .dataframe thead th {\n",
              "        text-align: right;\n",
              "    }\n",
              "</style>\n",
              "<table border=\"1\" class=\"dataframe\">\n",
              "  <thead>\n",
              "    <tr style=\"text-align: right;\">\n",
              "      <th></th>\n",
              "      <th>canal_venda</th>\n",
              "      <th>acessos</th>\n",
              "      <th>site</th>\n",
              "      <th>vendas</th>\n",
              "      <th>lista</th>\n",
              "      <th>categoria_vendas</th>\n",
              "    </tr>\n",
              "  </thead>\n",
              "  <tbody>\n",
              "    <tr>\n",
              "      <th>0</th>\n",
              "      <td>facebook</td>\n",
              "      <td>100</td>\n",
              "      <td>site1</td>\n",
              "      <td>1000.52</td>\n",
              "      <td>200</td>\n",
              "      <td>0 a 1500</td>\n",
              "    </tr>\n",
              "    <tr>\n",
              "      <th>1</th>\n",
              "      <td>twitter</td>\n",
              "      <td>200</td>\n",
              "      <td>site1</td>\n",
              "      <td>1052.34</td>\n",
              "      <td>200</td>\n",
              "      <td>0 a 1500</td>\n",
              "    </tr>\n",
              "    <tr>\n",
              "      <th>2</th>\n",
              "      <td>instagram</td>\n",
              "      <td>300</td>\n",
              "      <td>site2</td>\n",
              "      <td>2002.00</td>\n",
              "      <td>300</td>\n",
              "      <td>2000 a 8000</td>\n",
              "    </tr>\n",
              "    <tr>\n",
              "      <th>3</th>\n",
              "      <td>linkedin</td>\n",
              "      <td>400</td>\n",
              "      <td>site2</td>\n",
              "      <td>5000.00</td>\n",
              "      <td>800</td>\n",
              "      <td>2000 a 8000</td>\n",
              "    </tr>\n",
              "    <tr>\n",
              "      <th>4</th>\n",
              "      <td>facebook</td>\n",
              "      <td>500</td>\n",
              "      <td>site3</td>\n",
              "      <td>300.00</td>\n",
              "      <td>200</td>\n",
              "      <td>0 a 1500</td>\n",
              "    </tr>\n",
              "  </tbody>\n",
              "</table>\n",
              "</div>"
            ],
            "text/plain": [
              "  canal_venda  acessos   site   vendas  lista categoria_vendas\n",
              "0    facebook      100  site1  1000.52    200         0 a 1500\n",
              "1     twitter      200  site1  1052.34    200         0 a 1500\n",
              "2   instagram      300  site2  2002.00    300      2000 a 8000\n",
              "3    linkedin      400  site2  5000.00    800      2000 a 8000\n",
              "4    facebook      500  site3   300.00    200         0 a 1500"
            ]
          },
          "metadata": {
            "tags": []
          },
          "execution_count": 114
        }
      ]
    },
    {
      "cell_type": "code",
      "metadata": {
        "id": "aiXi2ctm3wMm",
        "colab_type": "code",
        "colab": {}
      },
      "source": [
        "#Criando variavel categorica usando compressao de lista\n",
        "dataframe['categoria_acessos'] = ['maior_que_300' if x > 300 else 'menor_que_300' for x in dataframe['acessos']]"
      ],
      "execution_count": 0,
      "outputs": []
    },
    {
      "cell_type": "code",
      "metadata": {
        "id": "jaSRRzX13wMq",
        "colab_type": "code",
        "outputId": "0a7dcf72-0f0b-4dbf-d0a0-d2091e16ddd3",
        "colab": {}
      },
      "source": [
        "dataframe"
      ],
      "execution_count": 0,
      "outputs": [
        {
          "output_type": "execute_result",
          "data": {
            "text/html": [
              "<div>\n",
              "<style scoped>\n",
              "    .dataframe tbody tr th:only-of-type {\n",
              "        vertical-align: middle;\n",
              "    }\n",
              "\n",
              "    .dataframe tbody tr th {\n",
              "        vertical-align: top;\n",
              "    }\n",
              "\n",
              "    .dataframe thead th {\n",
              "        text-align: right;\n",
              "    }\n",
              "</style>\n",
              "<table border=\"1\" class=\"dataframe\">\n",
              "  <thead>\n",
              "    <tr style=\"text-align: right;\">\n",
              "      <th></th>\n",
              "      <th>canal_venda</th>\n",
              "      <th>acessos</th>\n",
              "      <th>site</th>\n",
              "      <th>vendas</th>\n",
              "      <th>lista</th>\n",
              "      <th>categoria_vendas</th>\n",
              "      <th>categoria_acessos</th>\n",
              "    </tr>\n",
              "  </thead>\n",
              "  <tbody>\n",
              "    <tr>\n",
              "      <th>0</th>\n",
              "      <td>facebook</td>\n",
              "      <td>100</td>\n",
              "      <td>site1</td>\n",
              "      <td>1000.52</td>\n",
              "      <td>200</td>\n",
              "      <td>0 a 1500</td>\n",
              "      <td>menor_que_300</td>\n",
              "    </tr>\n",
              "    <tr>\n",
              "      <th>1</th>\n",
              "      <td>twitter</td>\n",
              "      <td>200</td>\n",
              "      <td>site1</td>\n",
              "      <td>1052.34</td>\n",
              "      <td>200</td>\n",
              "      <td>0 a 1500</td>\n",
              "      <td>menor_que_300</td>\n",
              "    </tr>\n",
              "    <tr>\n",
              "      <th>2</th>\n",
              "      <td>instagram</td>\n",
              "      <td>300</td>\n",
              "      <td>site2</td>\n",
              "      <td>2002.00</td>\n",
              "      <td>300</td>\n",
              "      <td>2000 a 8000</td>\n",
              "      <td>menor_que_300</td>\n",
              "    </tr>\n",
              "    <tr>\n",
              "      <th>3</th>\n",
              "      <td>linkedin</td>\n",
              "      <td>400</td>\n",
              "      <td>site2</td>\n",
              "      <td>5000.00</td>\n",
              "      <td>800</td>\n",
              "      <td>2000 a 8000</td>\n",
              "      <td>maior_que_300</td>\n",
              "    </tr>\n",
              "    <tr>\n",
              "      <th>4</th>\n",
              "      <td>facebook</td>\n",
              "      <td>500</td>\n",
              "      <td>site3</td>\n",
              "      <td>300.00</td>\n",
              "      <td>200</td>\n",
              "      <td>0 a 1500</td>\n",
              "      <td>maior_que_300</td>\n",
              "    </tr>\n",
              "  </tbody>\n",
              "</table>\n",
              "</div>"
            ],
            "text/plain": [
              "  canal_venda  acessos   site   vendas  lista categoria_vendas  \\\n",
              "0    facebook      100  site1  1000.52    200         0 a 1500   \n",
              "1     twitter      200  site1  1052.34    200         0 a 1500   \n",
              "2   instagram      300  site2  2002.00    300      2000 a 8000   \n",
              "3    linkedin      400  site2  5000.00    800      2000 a 8000   \n",
              "4    facebook      500  site3   300.00    200         0 a 1500   \n",
              "\n",
              "  categoria_acessos  \n",
              "0     menor_que_300  \n",
              "1     menor_que_300  \n",
              "2     menor_que_300  \n",
              "3     maior_que_300  \n",
              "4     maior_que_300  "
            ]
          },
          "metadata": {
            "tags": []
          },
          "execution_count": 116
        }
      ]
    },
    {
      "cell_type": "code",
      "metadata": {
        "id": "4fULc5TT3wMu",
        "colab_type": "code",
        "colab": {}
      },
      "source": [
        "#Juntando dois dataframes | Criando o dataframe_2\n",
        "dataframe_2 = pd.DataFrame({'site': ['site1', 'site1', 'site2', 'site2', 'site3'],\n",
        "               'suporte': ['Carlos', 'Carlos', 'Maria', 'Maria', 'Ezequiel']})\n"
      ],
      "execution_count": 0,
      "outputs": []
    },
    {
      "cell_type": "code",
      "metadata": {
        "id": "InmF923W3wMw",
        "colab_type": "code",
        "outputId": "6079f1d0-60b2-4f24-b969-2d506808e13f",
        "colab": {}
      },
      "source": [
        "#Realizando o merge\n",
        "dataframe.merge(dataframe_2, on = 'site', how = 'left')"
      ],
      "execution_count": 0,
      "outputs": [
        {
          "output_type": "execute_result",
          "data": {
            "text/html": [
              "<div>\n",
              "<style scoped>\n",
              "    .dataframe tbody tr th:only-of-type {\n",
              "        vertical-align: middle;\n",
              "    }\n",
              "\n",
              "    .dataframe tbody tr th {\n",
              "        vertical-align: top;\n",
              "    }\n",
              "\n",
              "    .dataframe thead th {\n",
              "        text-align: right;\n",
              "    }\n",
              "</style>\n",
              "<table border=\"1\" class=\"dataframe\">\n",
              "  <thead>\n",
              "    <tr style=\"text-align: right;\">\n",
              "      <th></th>\n",
              "      <th>canal_venda</th>\n",
              "      <th>acessos</th>\n",
              "      <th>site</th>\n",
              "      <th>vendas</th>\n",
              "      <th>lista</th>\n",
              "      <th>categoria_vendas</th>\n",
              "      <th>categoria_acessos</th>\n",
              "      <th>suporte</th>\n",
              "    </tr>\n",
              "  </thead>\n",
              "  <tbody>\n",
              "    <tr>\n",
              "      <th>0</th>\n",
              "      <td>facebook</td>\n",
              "      <td>100</td>\n",
              "      <td>site1</td>\n",
              "      <td>1000.52</td>\n",
              "      <td>200</td>\n",
              "      <td>0 a 1500</td>\n",
              "      <td>menor_que_300</td>\n",
              "      <td>Carlos</td>\n",
              "    </tr>\n",
              "    <tr>\n",
              "      <th>1</th>\n",
              "      <td>facebook</td>\n",
              "      <td>100</td>\n",
              "      <td>site1</td>\n",
              "      <td>1000.52</td>\n",
              "      <td>200</td>\n",
              "      <td>0 a 1500</td>\n",
              "      <td>menor_que_300</td>\n",
              "      <td>Carlos</td>\n",
              "    </tr>\n",
              "    <tr>\n",
              "      <th>2</th>\n",
              "      <td>twitter</td>\n",
              "      <td>200</td>\n",
              "      <td>site1</td>\n",
              "      <td>1052.34</td>\n",
              "      <td>200</td>\n",
              "      <td>0 a 1500</td>\n",
              "      <td>menor_que_300</td>\n",
              "      <td>Carlos</td>\n",
              "    </tr>\n",
              "    <tr>\n",
              "      <th>3</th>\n",
              "      <td>twitter</td>\n",
              "      <td>200</td>\n",
              "      <td>site1</td>\n",
              "      <td>1052.34</td>\n",
              "      <td>200</td>\n",
              "      <td>0 a 1500</td>\n",
              "      <td>menor_que_300</td>\n",
              "      <td>Carlos</td>\n",
              "    </tr>\n",
              "    <tr>\n",
              "      <th>4</th>\n",
              "      <td>instagram</td>\n",
              "      <td>300</td>\n",
              "      <td>site2</td>\n",
              "      <td>2002.00</td>\n",
              "      <td>300</td>\n",
              "      <td>2000 a 8000</td>\n",
              "      <td>menor_que_300</td>\n",
              "      <td>Maria</td>\n",
              "    </tr>\n",
              "    <tr>\n",
              "      <th>5</th>\n",
              "      <td>instagram</td>\n",
              "      <td>300</td>\n",
              "      <td>site2</td>\n",
              "      <td>2002.00</td>\n",
              "      <td>300</td>\n",
              "      <td>2000 a 8000</td>\n",
              "      <td>menor_que_300</td>\n",
              "      <td>Maria</td>\n",
              "    </tr>\n",
              "    <tr>\n",
              "      <th>6</th>\n",
              "      <td>linkedin</td>\n",
              "      <td>400</td>\n",
              "      <td>site2</td>\n",
              "      <td>5000.00</td>\n",
              "      <td>800</td>\n",
              "      <td>2000 a 8000</td>\n",
              "      <td>maior_que_300</td>\n",
              "      <td>Maria</td>\n",
              "    </tr>\n",
              "    <tr>\n",
              "      <th>7</th>\n",
              "      <td>linkedin</td>\n",
              "      <td>400</td>\n",
              "      <td>site2</td>\n",
              "      <td>5000.00</td>\n",
              "      <td>800</td>\n",
              "      <td>2000 a 8000</td>\n",
              "      <td>maior_que_300</td>\n",
              "      <td>Maria</td>\n",
              "    </tr>\n",
              "    <tr>\n",
              "      <th>8</th>\n",
              "      <td>facebook</td>\n",
              "      <td>500</td>\n",
              "      <td>site3</td>\n",
              "      <td>300.00</td>\n",
              "      <td>200</td>\n",
              "      <td>0 a 1500</td>\n",
              "      <td>maior_que_300</td>\n",
              "      <td>Ezequiel</td>\n",
              "    </tr>\n",
              "  </tbody>\n",
              "</table>\n",
              "</div>"
            ],
            "text/plain": [
              "  canal_venda  acessos   site   vendas  lista categoria_vendas  \\\n",
              "0    facebook      100  site1  1000.52    200         0 a 1500   \n",
              "1    facebook      100  site1  1000.52    200         0 a 1500   \n",
              "2     twitter      200  site1  1052.34    200         0 a 1500   \n",
              "3     twitter      200  site1  1052.34    200         0 a 1500   \n",
              "4   instagram      300  site2  2002.00    300      2000 a 8000   \n",
              "5   instagram      300  site2  2002.00    300      2000 a 8000   \n",
              "6    linkedin      400  site2  5000.00    800      2000 a 8000   \n",
              "7    linkedin      400  site2  5000.00    800      2000 a 8000   \n",
              "8    facebook      500  site3   300.00    200         0 a 1500   \n",
              "\n",
              "  categoria_acessos   suporte  \n",
              "0     menor_que_300    Carlos  \n",
              "1     menor_que_300    Carlos  \n",
              "2     menor_que_300    Carlos  \n",
              "3     menor_que_300    Carlos  \n",
              "4     menor_que_300     Maria  \n",
              "5     menor_que_300     Maria  \n",
              "6     maior_que_300     Maria  \n",
              "7     maior_que_300     Maria  \n",
              "8     maior_que_300  Ezequiel  "
            ]
          },
          "metadata": {
            "tags": []
          },
          "execution_count": 118
        }
      ]
    },
    {
      "cell_type": "code",
      "metadata": {
        "id": "sTi27uvX3wMy",
        "colab_type": "code",
        "colab": {}
      },
      "source": [
        "#Salvando o dataframe como csv\n",
        "dataframe.to_csv('dataframe.csv', sep = ';', decimal = ',', index = False)"
      ],
      "execution_count": 0,
      "outputs": []
    },
    {
      "cell_type": "code",
      "metadata": {
        "id": "B3EjFS0f3wM0",
        "colab_type": "code",
        "colab": {}
      },
      "source": [
        "#Lendo dados no formato csv\n",
        "dataframe_lido = pd.read_csv('dataframe.csv', sep = ';', decimal = ',')"
      ],
      "execution_count": 0,
      "outputs": []
    },
    {
      "cell_type": "code",
      "metadata": {
        "id": "AbZ0jqp63wM2",
        "colab_type": "code",
        "outputId": "d88c313c-48a5-4e5b-8c01-8a4a18622872",
        "colab": {}
      },
      "source": [
        "dataframe_lido.head()"
      ],
      "execution_count": 0,
      "outputs": [
        {
          "output_type": "execute_result",
          "data": {
            "text/html": [
              "<div>\n",
              "<style scoped>\n",
              "    .dataframe tbody tr th:only-of-type {\n",
              "        vertical-align: middle;\n",
              "    }\n",
              "\n",
              "    .dataframe tbody tr th {\n",
              "        vertical-align: top;\n",
              "    }\n",
              "\n",
              "    .dataframe thead th {\n",
              "        text-align: right;\n",
              "    }\n",
              "</style>\n",
              "<table border=\"1\" class=\"dataframe\">\n",
              "  <thead>\n",
              "    <tr style=\"text-align: right;\">\n",
              "      <th></th>\n",
              "      <th>canal_venda</th>\n",
              "      <th>acessos</th>\n",
              "      <th>site</th>\n",
              "      <th>vendas</th>\n",
              "      <th>lista</th>\n",
              "      <th>categoria_vendas</th>\n",
              "      <th>categoria_acessos</th>\n",
              "    </tr>\n",
              "  </thead>\n",
              "  <tbody>\n",
              "    <tr>\n",
              "      <th>0</th>\n",
              "      <td>facebook</td>\n",
              "      <td>100</td>\n",
              "      <td>site1</td>\n",
              "      <td>1000.52</td>\n",
              "      <td>200</td>\n",
              "      <td>0 a 1500</td>\n",
              "      <td>menor_que_300</td>\n",
              "    </tr>\n",
              "    <tr>\n",
              "      <th>1</th>\n",
              "      <td>twitter</td>\n",
              "      <td>200</td>\n",
              "      <td>site1</td>\n",
              "      <td>1052.34</td>\n",
              "      <td>200</td>\n",
              "      <td>0 a 1500</td>\n",
              "      <td>menor_que_300</td>\n",
              "    </tr>\n",
              "    <tr>\n",
              "      <th>2</th>\n",
              "      <td>instagram</td>\n",
              "      <td>300</td>\n",
              "      <td>site2</td>\n",
              "      <td>2002.00</td>\n",
              "      <td>300</td>\n",
              "      <td>2000 a 8000</td>\n",
              "      <td>menor_que_300</td>\n",
              "    </tr>\n",
              "    <tr>\n",
              "      <th>3</th>\n",
              "      <td>linkedin</td>\n",
              "      <td>400</td>\n",
              "      <td>site2</td>\n",
              "      <td>5000.00</td>\n",
              "      <td>800</td>\n",
              "      <td>2000 a 8000</td>\n",
              "      <td>maior_que_300</td>\n",
              "    </tr>\n",
              "    <tr>\n",
              "      <th>4</th>\n",
              "      <td>facebook</td>\n",
              "      <td>500</td>\n",
              "      <td>site3</td>\n",
              "      <td>300.00</td>\n",
              "      <td>200</td>\n",
              "      <td>0 a 1500</td>\n",
              "      <td>maior_que_300</td>\n",
              "    </tr>\n",
              "  </tbody>\n",
              "</table>\n",
              "</div>"
            ],
            "text/plain": [
              "  canal_venda  acessos   site   vendas  lista categoria_vendas  \\\n",
              "0    facebook      100  site1  1000.52    200         0 a 1500   \n",
              "1     twitter      200  site1  1052.34    200         0 a 1500   \n",
              "2   instagram      300  site2  2002.00    300      2000 a 8000   \n",
              "3    linkedin      400  site2  5000.00    800      2000 a 8000   \n",
              "4    facebook      500  site3   300.00    200         0 a 1500   \n",
              "\n",
              "  categoria_acessos  \n",
              "0     menor_que_300  \n",
              "1     menor_que_300  \n",
              "2     menor_que_300  \n",
              "3     maior_que_300  \n",
              "4     maior_que_300  "
            ]
          },
          "metadata": {
            "tags": []
          },
          "execution_count": 128
        }
      ]
    },
    {
      "cell_type": "code",
      "metadata": {
        "id": "WYjbX1Qq3wM4",
        "colab_type": "code",
        "colab": {}
      },
      "source": [
        "json = pd.read_json('https://pricing.us-east-1.amazonaws.com/offers/v1.0/aws/index.json')"
      ],
      "execution_count": 0,
      "outputs": []
    },
    {
      "cell_type": "code",
      "metadata": {
        "id": "INlmw1D33wM6",
        "colab_type": "code",
        "outputId": "6f75045c-4fd4-4262-8bbd-85b16628c212",
        "colab": {}
      },
      "source": [
        "json['offers'][99]"
      ],
      "execution_count": 0,
      "outputs": [
        {
          "output_type": "execute_result",
          "data": {
            "text/plain": [
              "{'offerCode': 'AmazonMQ',\n",
              " 'versionIndexUrl': '/offers/v1.0/aws/AmazonMQ/index.json',\n",
              " 'currentVersionUrl': '/offers/v1.0/aws/AmazonMQ/current/index.json',\n",
              " 'currentRegionIndexUrl': '/offers/v1.0/aws/AmazonMQ/current/region_index.json'}"
            ]
          },
          "metadata": {
            "tags": []
          },
          "execution_count": 135
        }
      ]
    },
    {
      "cell_type": "code",
      "metadata": {
        "id": "7aYbC-c_3wM8",
        "colab_type": "code",
        "colab": {}
      },
      "source": [
        "json.reset_index(inplace = True)"
      ],
      "execution_count": 0,
      "outputs": []
    },
    {
      "cell_type": "code",
      "metadata": {
        "id": "yr8bqcwi3wNA",
        "colab_type": "code",
        "outputId": "546a8aca-2c22-463d-ce39-da52389b07ca",
        "colab": {}
      },
      "source": [
        "json['index']"
      ],
      "execution_count": 0,
      "outputs": [
        {
          "output_type": "execute_result",
          "data": {
            "text/plain": [
              "0                    A4B\n",
              "1             AWSAmplify\n",
              "2             AWSAppSync\n",
              "3              AWSBackup\n",
              "4             AWSBudgets\n",
              "             ...        \n",
              "143    comprehendmedical\n",
              "144         datapipeline\n",
              "145      mobileanalytics\n",
              "146           transcribe\n",
              "147            translate\n",
              "Name: index, Length: 148, dtype: object"
            ]
          },
          "metadata": {
            "tags": []
          },
          "execution_count": 145
        }
      ]
    },
    {
      "cell_type": "markdown",
      "metadata": {
        "id": "uv7pdfd23wNB",
        "colab_type": "text"
      },
      "source": [
        "## Imputação de dados"
      ]
    },
    {
      "cell_type": "code",
      "metadata": {
        "id": "z6E4tbwF3wNC",
        "colab_type": "code",
        "colab": {}
      },
      "source": [
        "df = pd.read_csv('train.csv')"
      ],
      "execution_count": 0,
      "outputs": []
    },
    {
      "cell_type": "code",
      "metadata": {
        "id": "ThqBxg9i3wND",
        "colab_type": "code",
        "colab": {}
      },
      "source": [
        "aux = pd.DataFrame({'colunas': df.columns,\n",
        "                    'tipos': df.dtypes,\n",
        "                    'percentual_faltante': df.isna().sum() / df.shape[0]})"
      ],
      "execution_count": 0,
      "outputs": []
    },
    {
      "cell_type": "code",
      "metadata": {
        "id": "R83WxXT_3wNE",
        "colab_type": "code",
        "outputId": "ee8d2aa0-a905-4096-f714-2e57f88dd235",
        "colab": {}
      },
      "source": [
        "aux"
      ],
      "execution_count": 0,
      "outputs": [
        {
          "output_type": "execute_result",
          "data": {
            "text/html": [
              "<div>\n",
              "<style scoped>\n",
              "    .dataframe tbody tr th:only-of-type {\n",
              "        vertical-align: middle;\n",
              "    }\n",
              "\n",
              "    .dataframe tbody tr th {\n",
              "        vertical-align: top;\n",
              "    }\n",
              "\n",
              "    .dataframe thead th {\n",
              "        text-align: right;\n",
              "    }\n",
              "</style>\n",
              "<table border=\"1\" class=\"dataframe\">\n",
              "  <thead>\n",
              "    <tr style=\"text-align: right;\">\n",
              "      <th></th>\n",
              "      <th>colunas</th>\n",
              "      <th>tipos</th>\n",
              "      <th>percentual_faltante</th>\n",
              "    </tr>\n",
              "  </thead>\n",
              "  <tbody>\n",
              "    <tr>\n",
              "      <th>PassengerId</th>\n",
              "      <td>PassengerId</td>\n",
              "      <td>int64</td>\n",
              "      <td>0.000000</td>\n",
              "    </tr>\n",
              "    <tr>\n",
              "      <th>Survived</th>\n",
              "      <td>Survived</td>\n",
              "      <td>int64</td>\n",
              "      <td>0.000000</td>\n",
              "    </tr>\n",
              "    <tr>\n",
              "      <th>Pclass</th>\n",
              "      <td>Pclass</td>\n",
              "      <td>int64</td>\n",
              "      <td>0.000000</td>\n",
              "    </tr>\n",
              "    <tr>\n",
              "      <th>Name</th>\n",
              "      <td>Name</td>\n",
              "      <td>object</td>\n",
              "      <td>0.000000</td>\n",
              "    </tr>\n",
              "    <tr>\n",
              "      <th>Sex</th>\n",
              "      <td>Sex</td>\n",
              "      <td>object</td>\n",
              "      <td>0.000000</td>\n",
              "    </tr>\n",
              "    <tr>\n",
              "      <th>Age</th>\n",
              "      <td>Age</td>\n",
              "      <td>float64</td>\n",
              "      <td>0.000000</td>\n",
              "    </tr>\n",
              "    <tr>\n",
              "      <th>SibSp</th>\n",
              "      <td>SibSp</td>\n",
              "      <td>int64</td>\n",
              "      <td>0.000000</td>\n",
              "    </tr>\n",
              "    <tr>\n",
              "      <th>Parch</th>\n",
              "      <td>Parch</td>\n",
              "      <td>int64</td>\n",
              "      <td>0.000000</td>\n",
              "    </tr>\n",
              "    <tr>\n",
              "      <th>Ticket</th>\n",
              "      <td>Ticket</td>\n",
              "      <td>object</td>\n",
              "      <td>0.000000</td>\n",
              "    </tr>\n",
              "    <tr>\n",
              "      <th>Fare</th>\n",
              "      <td>Fare</td>\n",
              "      <td>float64</td>\n",
              "      <td>0.000000</td>\n",
              "    </tr>\n",
              "    <tr>\n",
              "      <th>Cabin</th>\n",
              "      <td>Cabin</td>\n",
              "      <td>object</td>\n",
              "      <td>0.771044</td>\n",
              "    </tr>\n",
              "    <tr>\n",
              "      <th>Embarked</th>\n",
              "      <td>Embarked</td>\n",
              "      <td>object</td>\n",
              "      <td>0.002245</td>\n",
              "    </tr>\n",
              "  </tbody>\n",
              "</table>\n",
              "</div>"
            ],
            "text/plain": [
              "                 colunas    tipos  percentual_faltante\n",
              "PassengerId  PassengerId    int64             0.000000\n",
              "Survived        Survived    int64             0.000000\n",
              "Pclass            Pclass    int64             0.000000\n",
              "Name                Name   object             0.000000\n",
              "Sex                  Sex   object             0.000000\n",
              "Age                  Age  float64             0.000000\n",
              "SibSp              SibSp    int64             0.000000\n",
              "Parch              Parch    int64             0.000000\n",
              "Ticket            Ticket   object             0.000000\n",
              "Fare                Fare  float64             0.000000\n",
              "Cabin              Cabin   object             0.771044\n",
              "Embarked        Embarked   object             0.002245"
            ]
          },
          "metadata": {
            "tags": []
          },
          "execution_count": 21
        }
      ]
    },
    {
      "cell_type": "code",
      "metadata": {
        "id": "NChQkdD93wNF",
        "colab_type": "code",
        "colab": {}
      },
      "source": [
        "#Dados númericos : média ou mediana\n",
        "df['Age'] = df['Age'].fillna(df['Age'].mode())"
      ],
      "execution_count": 0,
      "outputs": []
    },
    {
      "cell_type": "code",
      "metadata": {
        "id": "S4-wXkMv3wNH",
        "colab_type": "code",
        "colab": {}
      },
      "source": [
        "#Dados categoricos: Unknown ou moda\n",
        "df['Cabin'] = df['Cabin'].fillna('Unknown')"
      ],
      "execution_count": 0,
      "outputs": []
    },
    {
      "cell_type": "code",
      "metadata": {
        "id": "8qDV1zEi3wNI",
        "colab_type": "code",
        "outputId": "2a866788-2621-4ec8-e63b-51ef8fd0d9eb",
        "colab": {}
      },
      "source": [
        "df['Cabin'].value_counts()"
      ],
      "execution_count": 0,
      "outputs": [
        {
          "output_type": "execute_result",
          "data": {
            "text/plain": [
              "Unknown        687\n",
              "B96 B98          4\n",
              "C23 C25 C27      4\n",
              "G6               4\n",
              "E101             3\n",
              "              ... \n",
              "C85              1\n",
              "C148             1\n",
              "A36              1\n",
              "B3               1\n",
              "D28              1\n",
              "Name: Cabin, Length: 148, dtype: int64"
            ]
          },
          "metadata": {
            "tags": []
          },
          "execution_count": 23
        }
      ]
    },
    {
      "cell_type": "code",
      "metadata": {
        "id": "-lRVdnjS3wNL",
        "colab_type": "code",
        "outputId": "9b88af8f-c097-4bfe-80e0-f088b8f1ab45",
        "colab": {}
      },
      "source": [
        "df.shape[0]"
      ],
      "execution_count": 0,
      "outputs": [
        {
          "output_type": "execute_result",
          "data": {
            "text/plain": [
              "891"
            ]
          },
          "metadata": {
            "tags": []
          },
          "execution_count": 24
        }
      ]
    },
    {
      "cell_type": "code",
      "metadata": {
        "id": "nks7EIZZ3wNN",
        "colab_type": "code",
        "colab": {}
      },
      "source": [
        ""
      ],
      "execution_count": 0,
      "outputs": []
    }
  ]
}