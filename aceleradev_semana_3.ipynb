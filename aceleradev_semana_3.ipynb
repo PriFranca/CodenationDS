{
  "nbformat": 4,
  "nbformat_minor": 0,
  "metadata": {
    "kernelspec": {
      "display_name": "Python 3",
      "language": "python",
      "name": "python3"
    },
    "language_info": {
      "codemirror_mode": {
        "name": "ipython",
        "version": 3
      },
      "file_extension": ".py",
      "mimetype": "text/x-python",
      "name": "python",
      "nbconvert_exporter": "python",
      "pygments_lexer": "ipython3",
      "version": "3.8.2"
    },
    "colab": {
      "name": "aceleradev_semana_3.ipynb",
      "provenance": [],
      "collapsed_sections": []
    }
  },
  "cells": [
    {
      "cell_type": "markdown",
      "metadata": {
        "id": "ArmymzwC4ruF",
        "colab_type": "text"
      },
      "source": [
        "# Aceleradev Codenation - Semana 3\n",
        "##Data Scientist\n",
        "\n",
        "\n",
        "\n",
        "\n",
        "\n"
      ]
    },
    {
      "cell_type": "markdown",
      "metadata": {
        "id": "L_mIkqor4ruG",
        "colab_type": "text"
      },
      "source": [
        "dados : https://www.kaggle.com/rubenssjr/brasilian-houses-to-rent"
      ]
    },
    {
      "cell_type": "markdown",
      "metadata": {
        "id": "lFcV_y_l4ruH",
        "colab_type": "text"
      },
      "source": [
        "Colunas \n",
        "\n",
        "- city : Cidade onde o imóvel está localizada / City where the property is located\n",
        "- area : Area do imovel / Property area\n",
        "- rooms: Numero de quartos/ Quantity of rooms\n",
        "- bathroom: Numero de banheiros / Quantity of bathroom\n",
        "- parking spaces : Numero de vagas / Quantity of parking spaces\n",
        "- floor : Andar / Floor\n",
        "- animal : Aceita animais? / Acept animals?\n",
        "- furniture : Mobilhada? / Furniture?\n",
        "- hoa (RS): Valor do condomínio / Homeowners association tax \n",
        "- rent amount (RS) : Valor do Aluguel (/) Rent amount \n",
        "- property tax (RS) : IPTU (/) Property tax\n",
        "- fire insurance (RS) : Seguro Incendio / Fire Insurance\n",
        "- total (RS) : Valor total / Total"
      ]
    },
    {
      "cell_type": "markdown",
      "metadata": {
        "id": "aYy-W3_M4ruI",
        "colab_type": "text"
      },
      "source": [
        "### Importando os pacotes"
      ]
    },
    {
      "cell_type": "code",
      "metadata": {
        "id": "J7wdA9fu4ruJ",
        "colab_type": "code",
        "colab": {}
      },
      "source": [
        "import pandas as pd"
      ],
      "execution_count": 0,
      "outputs": []
    },
    {
      "cell_type": "code",
      "metadata": {
        "id": "aG_GXHs_4ruO",
        "colab_type": "code",
        "colab": {}
      },
      "source": [
        "df = pd.read_csv('houses_to_rent_v2.csv')"
      ],
      "execution_count": 0,
      "outputs": []
    },
    {
      "cell_type": "code",
      "metadata": {
        "id": "mOn5sWA04ruS",
        "colab_type": "code",
        "outputId": "63308a06-91b5-47f3-c622-6761adb489e3",
        "colab": {
          "base_uri": "https://localhost:8080/",
          "height": 204
        }
      },
      "source": [
        "df.head(5)"
      ],
      "execution_count": 9,
      "outputs": [
        {
          "output_type": "execute_result",
          "data": {
            "text/html": [
              "<div>\n",
              "<style scoped>\n",
              "    .dataframe tbody tr th:only-of-type {\n",
              "        vertical-align: middle;\n",
              "    }\n",
              "\n",
              "    .dataframe tbody tr th {\n",
              "        vertical-align: top;\n",
              "    }\n",
              "\n",
              "    .dataframe thead th {\n",
              "        text-align: right;\n",
              "    }\n",
              "</style>\n",
              "<table border=\"1\" class=\"dataframe\">\n",
              "  <thead>\n",
              "    <tr style=\"text-align: right;\">\n",
              "      <th></th>\n",
              "      <th>city</th>\n",
              "      <th>area</th>\n",
              "      <th>rooms</th>\n",
              "      <th>bathroom</th>\n",
              "      <th>parking spaces</th>\n",
              "      <th>floor</th>\n",
              "      <th>animal</th>\n",
              "      <th>furniture</th>\n",
              "      <th>hoa (R$)</th>\n",
              "      <th>rent amount (R$)</th>\n",
              "      <th>property tax (R$)</th>\n",
              "      <th>fire insurance (R$)</th>\n",
              "      <th>total (R$)</th>\n",
              "    </tr>\n",
              "  </thead>\n",
              "  <tbody>\n",
              "    <tr>\n",
              "      <th>0</th>\n",
              "      <td>São Paulo</td>\n",
              "      <td>70</td>\n",
              "      <td>2</td>\n",
              "      <td>1</td>\n",
              "      <td>1</td>\n",
              "      <td>7</td>\n",
              "      <td>acept</td>\n",
              "      <td>furnished</td>\n",
              "      <td>2065</td>\n",
              "      <td>3300</td>\n",
              "      <td>211</td>\n",
              "      <td>42</td>\n",
              "      <td>5618</td>\n",
              "    </tr>\n",
              "    <tr>\n",
              "      <th>1</th>\n",
              "      <td>São Paulo</td>\n",
              "      <td>320</td>\n",
              "      <td>4</td>\n",
              "      <td>4</td>\n",
              "      <td>0</td>\n",
              "      <td>20</td>\n",
              "      <td>acept</td>\n",
              "      <td>not furnished</td>\n",
              "      <td>1200</td>\n",
              "      <td>4960</td>\n",
              "      <td>1750</td>\n",
              "      <td>63</td>\n",
              "      <td>7973</td>\n",
              "    </tr>\n",
              "    <tr>\n",
              "      <th>2</th>\n",
              "      <td>Porto Alegre</td>\n",
              "      <td>80</td>\n",
              "      <td>1</td>\n",
              "      <td>1</td>\n",
              "      <td>1</td>\n",
              "      <td>6</td>\n",
              "      <td>acept</td>\n",
              "      <td>not furnished</td>\n",
              "      <td>1000</td>\n",
              "      <td>2800</td>\n",
              "      <td>0</td>\n",
              "      <td>41</td>\n",
              "      <td>3841</td>\n",
              "    </tr>\n",
              "    <tr>\n",
              "      <th>3</th>\n",
              "      <td>Porto Alegre</td>\n",
              "      <td>51</td>\n",
              "      <td>2</td>\n",
              "      <td>1</td>\n",
              "      <td>0</td>\n",
              "      <td>2</td>\n",
              "      <td>acept</td>\n",
              "      <td>not furnished</td>\n",
              "      <td>270</td>\n",
              "      <td>1112</td>\n",
              "      <td>22</td>\n",
              "      <td>17</td>\n",
              "      <td>1421</td>\n",
              "    </tr>\n",
              "    <tr>\n",
              "      <th>4</th>\n",
              "      <td>São Paulo</td>\n",
              "      <td>25</td>\n",
              "      <td>1</td>\n",
              "      <td>1</td>\n",
              "      <td>0</td>\n",
              "      <td>1</td>\n",
              "      <td>not acept</td>\n",
              "      <td>not furnished</td>\n",
              "      <td>0</td>\n",
              "      <td>800</td>\n",
              "      <td>25</td>\n",
              "      <td>11</td>\n",
              "      <td>836</td>\n",
              "    </tr>\n",
              "  </tbody>\n",
              "</table>\n",
              "</div>"
            ],
            "text/plain": [
              "           city  area  ...  fire insurance (R$)  total (R$)\n",
              "0     São Paulo    70  ...                   42        5618\n",
              "1     São Paulo   320  ...                   63        7973\n",
              "2  Porto Alegre    80  ...                   41        3841\n",
              "3  Porto Alegre    51  ...                   17        1421\n",
              "4     São Paulo    25  ...                   11         836\n",
              "\n",
              "[5 rows x 13 columns]"
            ]
          },
          "metadata": {
            "tags": []
          },
          "execution_count": 9
        }
      ]
    },
    {
      "cell_type": "code",
      "metadata": {
        "id": "NUAWLKLR4ruW",
        "colab_type": "code",
        "outputId": "c147e6ce-07ad-4767-ba9d-a131bb878e24",
        "colab": {
          "base_uri": "https://localhost:8080/",
          "height": 255
        }
      },
      "source": [
        "df.dtypes"
      ],
      "execution_count": 10,
      "outputs": [
        {
          "output_type": "execute_result",
          "data": {
            "text/plain": [
              "city                   object\n",
              "area                    int64\n",
              "rooms                   int64\n",
              "bathroom                int64\n",
              "parking spaces          int64\n",
              "floor                  object\n",
              "animal                 object\n",
              "furniture              object\n",
              "hoa (R$)                int64\n",
              "rent amount (R$)        int64\n",
              "property tax (R$)       int64\n",
              "fire insurance (R$)     int64\n",
              "total (R$)              int64\n",
              "dtype: object"
            ]
          },
          "metadata": {
            "tags": []
          },
          "execution_count": 10
        }
      ]
    },
    {
      "cell_type": "code",
      "metadata": {
        "collapsed": true,
        "id": "udfbj9Z94rua",
        "colab_type": "code",
        "outputId": "5e40840d-9c78-4e77-f96d-dd535888555d",
        "colab": {
          "base_uri": "https://localhost:8080/",
          "height": 357
        }
      },
      "source": [
        "df.info()"
      ],
      "execution_count": 11,
      "outputs": [
        {
          "output_type": "stream",
          "text": [
            "<class 'pandas.core.frame.DataFrame'>\n",
            "RangeIndex: 10692 entries, 0 to 10691\n",
            "Data columns (total 13 columns):\n",
            " #   Column               Non-Null Count  Dtype \n",
            "---  ------               --------------  ----- \n",
            " 0   city                 10692 non-null  object\n",
            " 1   area                 10692 non-null  int64 \n",
            " 2   rooms                10692 non-null  int64 \n",
            " 3   bathroom             10692 non-null  int64 \n",
            " 4   parking spaces       10692 non-null  int64 \n",
            " 5   floor                10692 non-null  object\n",
            " 6   animal               10692 non-null  object\n",
            " 7   furniture            10692 non-null  object\n",
            " 8   hoa (R$)             10692 non-null  int64 \n",
            " 9   rent amount (R$)     10692 non-null  int64 \n",
            " 10  property tax (R$)    10692 non-null  int64 \n",
            " 11  fire insurance (R$)  10692 non-null  int64 \n",
            " 12  total (R$)           10692 non-null  int64 \n",
            "dtypes: int64(9), object(4)\n",
            "memory usage: 1.1+ MB\n"
          ],
          "name": "stdout"
        }
      ]
    },
    {
      "cell_type": "markdown",
      "metadata": {
        "id": "2HuIHVpV4rue",
        "colab_type": "text"
      },
      "source": [
        "# Problema : Explorar o valor do aluguel (rent amount RS)"
      ]
    },
    {
      "cell_type": "markdown",
      "metadata": {
        "id": "OCUJX68-4rue",
        "colab_type": "text"
      },
      "source": [
        "## Estatística univariada"
      ]
    },
    {
      "cell_type": "code",
      "metadata": {
        "id": "dhNm14gA4ruf",
        "colab_type": "code",
        "colab": {}
      },
      "source": [
        "df.rename(columns = {'rent amount (R$)' : 'valor_aluguel'}, inplace = True)"
      ],
      "execution_count": 0,
      "outputs": []
    },
    {
      "cell_type": "code",
      "metadata": {
        "id": "MccLbpf84rui",
        "colab_type": "code",
        "outputId": "c86cb78c-696e-4023-bb5b-14501868eb24",
        "colab": {
          "base_uri": "https://localhost:8080/",
          "height": 34
        }
      },
      "source": [
        "df['valor_aluguel'].mean()"
      ],
      "execution_count": 13,
      "outputs": [
        {
          "output_type": "execute_result",
          "data": {
            "text/plain": [
              "3896.247194163861"
            ]
          },
          "metadata": {
            "tags": []
          },
          "execution_count": 13
        }
      ]
    },
    {
      "cell_type": "code",
      "metadata": {
        "id": "b4eTpPyp4rul",
        "colab_type": "code",
        "outputId": "7b33ffa5-6d5f-44a6-f120-a990911c67f8",
        "colab": {
          "base_uri": "https://localhost:8080/",
          "height": 34
        }
      },
      "source": [
        "df['valor_aluguel'].median()"
      ],
      "execution_count": 14,
      "outputs": [
        {
          "output_type": "execute_result",
          "data": {
            "text/plain": [
              "2661.0"
            ]
          },
          "metadata": {
            "tags": []
          },
          "execution_count": 14
        }
      ]
    },
    {
      "cell_type": "code",
      "metadata": {
        "id": "lsMytYrW4rup",
        "colab_type": "code",
        "outputId": "c3f0cd12-76dc-4d55-8d1e-3bd455783e0f",
        "colab": {
          "base_uri": "https://localhost:8080/",
          "height": 34
        }
      },
      "source": [
        "df['valor_aluguel'].std()"
      ],
      "execution_count": 15,
      "outputs": [
        {
          "output_type": "execute_result",
          "data": {
            "text/plain": [
              "3408.5455176710816"
            ]
          },
          "metadata": {
            "tags": []
          },
          "execution_count": 15
        }
      ]
    },
    {
      "cell_type": "code",
      "metadata": {
        "id": "KTkmxu4t4rus",
        "colab_type": "code",
        "outputId": "9b3f3bc8-667e-4a5e-d01c-c4f7b8f35b49",
        "colab": {
          "base_uri": "https://localhost:8080/",
          "height": 170
        }
      },
      "source": [
        "df['valor_aluguel'].describe()"
      ],
      "execution_count": 16,
      "outputs": [
        {
          "output_type": "execute_result",
          "data": {
            "text/plain": [
              "count    10692.000000\n",
              "mean      3896.247194\n",
              "std       3408.545518\n",
              "min        450.000000\n",
              "25%       1530.000000\n",
              "50%       2661.000000\n",
              "75%       5000.000000\n",
              "max      45000.000000\n",
              "Name: valor_aluguel, dtype: float64"
            ]
          },
          "metadata": {
            "tags": []
          },
          "execution_count": 16
        }
      ]
    },
    {
      "cell_type": "code",
      "metadata": {
        "id": "sZCoLYBz4ruw",
        "colab_type": "code",
        "outputId": "6a1e3c59-6f64-4ee6-9de0-fbdfe571567d",
        "colab": {
          "base_uri": "https://localhost:8080/",
          "height": 282
        }
      },
      "source": [
        "df['valor_aluguel'].plot(kind = 'hist', bins= 100)"
      ],
      "execution_count": 17,
      "outputs": [
        {
          "output_type": "execute_result",
          "data": {
            "text/plain": [
              "<matplotlib.axes._subplots.AxesSubplot at 0x7fa84577d0b8>"
            ]
          },
          "metadata": {
            "tags": []
          },
          "execution_count": 17
        },
        {
          "output_type": "display_data",
          "data": {
            "image/png": "[encoded data removed]",
            "text/plain": [
              "<Figure size 432x288 with 1 Axes>"
            ]
          },
          "metadata": {
            "tags": [],
            "needs_background": "light"
          }
        }
      ]
    },
    {
      "cell_type": "code",
      "metadata": {
        "id": "Pz9lWM024ruz",
        "colab_type": "code",
        "outputId": "14697d5b-badf-4a47-890d-4b3650304cb7",
        "colab": {
          "base_uri": "https://localhost:8080/",
          "height": 34
        }
      },
      "source": [
        "#skewness positive skew\n",
        "df.valor_aluguel.skew()"
      ],
      "execution_count": 18,
      "outputs": [
        {
          "output_type": "execute_result",
          "data": {
            "text/plain": [
              "1.8388773035440982"
            ]
          },
          "metadata": {
            "tags": []
          },
          "execution_count": 18
        }
      ]
    },
    {
      "cell_type": "code",
      "metadata": {
        "id": "myMMnY-J4ru1",
        "colab_type": "code",
        "outputId": "4047eb9a-7ff7-4783-86c3-a25bd9840818",
        "colab": {
          "base_uri": "https://localhost:8080/",
          "height": 34
        }
      },
      "source": [
        "#kurtose - leptocurtica\n",
        "df.valor_aluguel.kurtosis()\n"
      ],
      "execution_count": 19,
      "outputs": [
        {
          "output_type": "execute_result",
          "data": {
            "text/plain": [
              "4.624228179818687"
            ]
          },
          "metadata": {
            "tags": []
          },
          "execution_count": 19
        }
      ]
    },
    {
      "cell_type": "markdown",
      "metadata": {
        "id": "QPueXHLj4ru4",
        "colab_type": "text"
      },
      "source": [
        "## Exploracao multivariáveis"
      ]
    },
    {
      "cell_type": "markdown",
      "metadata": {
        "id": "JeYW-Uf94ru4",
        "colab_type": "text"
      },
      "source": [
        "### Perguntas\n",
        " \n",
        "- Qual a cidade com a média de aluguel mais cara? \n",
        "- Quantos banheiros existem nas residencias com alugueis mais altos? \n",
        "- Os imóveis mais caros aceitam animal? \n",
        "- Os imóveis mais caros são mobiliados? "
      ]
    },
    {
      "cell_type": "code",
      "metadata": {
        "id": "LefeKK5J4ru4",
        "colab_type": "code",
        "outputId": "913ff71a-ec66-45cf-99c7-70b6586f5f30",
        "colab": {
          "base_uri": "https://localhost:8080/",
          "height": 204
        }
      },
      "source": [
        "#Qual a cidade com a média de aluguel mais alta? \n",
        "\n",
        "df.groupby('city')['valor_aluguel'].median().reset_index().sort_values('valor_aluguel', ascending = False)"
      ],
      "execution_count": 20,
      "outputs": [
        {
          "output_type": "execute_result",
          "data": {
            "text/html": [
              "<div>\n",
              "<style scoped>\n",
              "    .dataframe tbody tr th:only-of-type {\n",
              "        vertical-align: middle;\n",
              "    }\n",
              "\n",
              "    .dataframe tbody tr th {\n",
              "        vertical-align: top;\n",
              "    }\n",
              "\n",
              "    .dataframe thead th {\n",
              "        text-align: right;\n",
              "    }\n",
              "</style>\n",
              "<table border=\"1\" class=\"dataframe\">\n",
              "  <thead>\n",
              "    <tr style=\"text-align: right;\">\n",
              "      <th></th>\n",
              "      <th>city</th>\n",
              "      <th>valor_aluguel</th>\n",
              "    </tr>\n",
              "  </thead>\n",
              "  <tbody>\n",
              "    <tr>\n",
              "      <th>4</th>\n",
              "      <td>São Paulo</td>\n",
              "      <td>3400</td>\n",
              "    </tr>\n",
              "    <tr>\n",
              "      <th>0</th>\n",
              "      <td>Belo Horizonte</td>\n",
              "      <td>2300</td>\n",
              "    </tr>\n",
              "    <tr>\n",
              "      <th>3</th>\n",
              "      <td>Rio de Janeiro</td>\n",
              "      <td>2300</td>\n",
              "    </tr>\n",
              "    <tr>\n",
              "      <th>2</th>\n",
              "      <td>Porto Alegre</td>\n",
              "      <td>1650</td>\n",
              "    </tr>\n",
              "    <tr>\n",
              "      <th>1</th>\n",
              "      <td>Campinas</td>\n",
              "      <td>1500</td>\n",
              "    </tr>\n",
              "  </tbody>\n",
              "</table>\n",
              "</div>"
            ],
            "text/plain": [
              "             city  valor_aluguel\n",
              "4       São Paulo           3400\n",
              "0  Belo Horizonte           2300\n",
              "3  Rio de Janeiro           2300\n",
              "2    Porto Alegre           1650\n",
              "1        Campinas           1500"
            ]
          },
          "metadata": {
            "tags": []
          },
          "execution_count": 20
        }
      ]
    },
    {
      "cell_type": "code",
      "metadata": {
        "id": "BIVbwXDC4ru7",
        "colab_type": "code",
        "colab": {}
      },
      "source": [
        "#Quantos banheiros existem em média nas residencias com alugueis mais altos? \n",
        "## definicao: algueis mais altos são valores acima de 5000\n",
        "\n",
        "df['aluguel_alto'] = ['Alto' if x > 5000 else 'Baixo' for x in df['valor_aluguel']]\n"
      ],
      "execution_count": 0,
      "outputs": []
    },
    {
      "cell_type": "code",
      "metadata": {
        "id": "yjF_Ff9_4ru-",
        "colab_type": "code",
        "outputId": "40f72598-b330-45a4-837a-748165027902",
        "colab": {
          "base_uri": "https://localhost:8080/",
          "height": 85
        }
      },
      "source": [
        "df.groupby('aluguel_alto')['bathroom'].mean()"
      ],
      "execution_count": 22,
      "outputs": [
        {
          "output_type": "execute_result",
          "data": {
            "text/plain": [
              "aluguel_alto\n",
              "Alto     3.729027\n",
              "Baixo    1.772108\n",
              "Name: bathroom, dtype: float64"
            ]
          },
          "metadata": {
            "tags": []
          },
          "execution_count": 22
        }
      ]
    },
    {
      "cell_type": "markdown",
      "metadata": {
        "id": "wCua3YUD4rvD",
        "colab_type": "text"
      },
      "source": [
        "### Hipóteses\n",
        "\n",
        "- São Paulo é a cidade com o aluguel mais caro.\n",
        "- Quanto mais banheiros em um imovel maior o valor do aluguel.\n",
        "- Os imoveis com mobilia tem o aluguel mais alto. "
      ]
    },
    {
      "cell_type": "code",
      "metadata": {
        "id": "Wu-0GBZK4rvE",
        "colab_type": "code",
        "outputId": "1ac55fc4-2867-4b3a-dc33-9bb4b5384a91",
        "colab": {
          "base_uri": "https://localhost:8080/",
          "height": 111
        }
      },
      "source": [
        "df[['valor_aluguel', 'bathroom']].corr(method = 'spearman')"
      ],
      "execution_count": 23,
      "outputs": [
        {
          "output_type": "execute_result",
          "data": {
            "text/html": [
              "<div>\n",
              "<style scoped>\n",
              "    .dataframe tbody tr th:only-of-type {\n",
              "        vertical-align: middle;\n",
              "    }\n",
              "\n",
              "    .dataframe tbody tr th {\n",
              "        vertical-align: top;\n",
              "    }\n",
              "\n",
              "    .dataframe thead th {\n",
              "        text-align: right;\n",
              "    }\n",
              "</style>\n",
              "<table border=\"1\" class=\"dataframe\">\n",
              "  <thead>\n",
              "    <tr style=\"text-align: right;\">\n",
              "      <th></th>\n",
              "      <th>valor_aluguel</th>\n",
              "      <th>bathroom</th>\n",
              "    </tr>\n",
              "  </thead>\n",
              "  <tbody>\n",
              "    <tr>\n",
              "      <th>valor_aluguel</th>\n",
              "      <td>1.00000</td>\n",
              "      <td>0.71589</td>\n",
              "    </tr>\n",
              "    <tr>\n",
              "      <th>bathroom</th>\n",
              "      <td>0.71589</td>\n",
              "      <td>1.00000</td>\n",
              "    </tr>\n",
              "  </tbody>\n",
              "</table>\n",
              "</div>"
            ],
            "text/plain": [
              "               valor_aluguel  bathroom\n",
              "valor_aluguel        1.00000   0.71589\n",
              "bathroom             0.71589   1.00000"
            ]
          },
          "metadata": {
            "tags": []
          },
          "execution_count": 23
        }
      ]
    },
    {
      "cell_type": "code",
      "metadata": {
        "id": "fsMWCWUQ4rvG",
        "colab_type": "code",
        "colab": {}
      },
      "source": [
        "aux = pd.DataFrame({'colunas' : df.columns, 'tipos' : df.dtypes})"
      ],
      "execution_count": 0,
      "outputs": []
    },
    {
      "cell_type": "code",
      "metadata": {
        "id": "jP1KTCxi4rvJ",
        "colab_type": "code",
        "colab": {}
      },
      "source": [
        "lista = list(aux[aux['tipos'] == 'int64']['colunas'])"
      ],
      "execution_count": 0,
      "outputs": []
    },
    {
      "cell_type": "code",
      "metadata": {
        "id": "wVr4BWxu4rvL",
        "colab_type": "code",
        "outputId": "5c441bf7-8b5b-4852-b6b5-78928ba68e40",
        "colab": {
          "base_uri": "https://localhost:8080/",
          "height": 629
        }
      },
      "source": [
        "for coluna in lista:\n",
        "    print(coluna)\n",
        "    print(df[['valor_aluguel', coluna]].corr(method = 'spearman'))"
      ],
      "execution_count": 26,
      "outputs": [
        {
          "output_type": "stream",
          "text": [
            "area\n",
            "               valor_aluguel      area\n",
            "valor_aluguel       1.000000  0.728095\n",
            "area                0.728095  1.000000\n",
            "rooms\n",
            "               valor_aluguel     rooms\n",
            "valor_aluguel       1.000000  0.600969\n",
            "rooms               0.600969  1.000000\n",
            "bathroom\n",
            "               valor_aluguel  bathroom\n",
            "valor_aluguel        1.00000   0.71589\n",
            "bathroom             0.71589   1.00000\n",
            "parking spaces\n",
            "                valor_aluguel  parking spaces\n",
            "valor_aluguel        1.000000        0.620175\n",
            "parking spaces       0.620175        1.000000\n",
            "hoa (R$)\n",
            "               valor_aluguel  hoa (R$)\n",
            "valor_aluguel       1.000000  0.355785\n",
            "hoa (R$)            0.355785  1.000000\n",
            "valor_aluguel\n",
            "               valor_aluguel  valor_aluguel\n",
            "valor_aluguel            1.0            1.0\n",
            "valor_aluguel            1.0            1.0\n",
            "property tax (R$)\n",
            "                   valor_aluguel  property tax (R$)\n",
            "valor_aluguel            1.00000            0.65923\n",
            "property tax (R$)        0.65923            1.00000\n",
            "fire insurance (R$)\n",
            "                     valor_aluguel  fire insurance (R$)\n",
            "valor_aluguel             1.000000             0.988045\n",
            "fire insurance (R$)       0.988045             1.000000\n",
            "total (R$)\n",
            "               valor_aluguel  total (R$)\n",
            "valor_aluguel       1.000000    0.968176\n",
            "total (R$)          0.968176    1.000000\n"
          ],
          "name": "stdout"
        }
      ]
    },
    {
      "cell_type": "markdown",
      "metadata": {
        "id": "LXvhVF1r4rvN",
        "colab_type": "text"
      },
      "source": [
        "## Visualização de dados"
      ]
    },
    {
      "cell_type": "code",
      "metadata": {
        "id": "hJNt5Vlu4rvN",
        "colab_type": "code",
        "colab": {}
      },
      "source": [
        ""
      ],
      "execution_count": 0,
      "outputs": []
    },
    {
      "cell_type": "code",
      "metadata": {
        "id": "anv71DhW4rvP",
        "colab_type": "code",
        "colab": {}
      },
      "source": [
        ""
      ],
      "execution_count": 0,
      "outputs": []
    },
    {
      "cell_type": "code",
      "metadata": {
        "id": "fclyfxNb4rvS",
        "colab_type": "code",
        "colab": {}
      },
      "source": [
        ""
      ],
      "execution_count": 0,
      "outputs": []
    },
    {
      "cell_type": "code",
      "metadata": {
        "id": "utcBEZHQ4rvW",
        "colab_type": "code",
        "colab": {}
      },
      "source": [
        ""
      ],
      "execution_count": 0,
      "outputs": []
    },
    {
      "cell_type": "code",
      "metadata": {
        "id": "QeIe3M824rvZ",
        "colab_type": "code",
        "colab": {}
      },
      "source": [
        ""
      ],
      "execution_count": 0,
      "outputs": []
    },
    {
      "cell_type": "code",
      "metadata": {
        "id": "7864A-rb4rvc",
        "colab_type": "code",
        "colab": {}
      },
      "source": [
        ""
      ],
      "execution_count": 0,
      "outputs": []
    },
    {
      "cell_type": "code",
      "metadata": {
        "id": "tr3xDxEw4rve",
        "colab_type": "code",
        "colab": {}
      },
      "source": [
        ""
      ],
      "execution_count": 0,
      "outputs": []
    }
  ]
}