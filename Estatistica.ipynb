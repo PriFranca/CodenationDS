{
  "nbformat": 4,
  "nbformat_minor": 0,
  "metadata": {
    "colab": {
      "name": "Estatistica.ipynb",
      "provenance": [],
      "collapsed_sections": [],
      "authorship_tag": "ABX9TyPzdXrAXDFdDdZPothLF2UA"
    },
    "kernelspec": {
      "name": "python3",
      "display_name": "Python 3"
    }
  },
  "cells": [
    {
      "cell_type": "markdown",
      "metadata": {
        "id": "ONiZCaObAQp7",
        "colab_type": "text"
      },
      "source": [
        "#**Conhecendo melhor nossa base de consumidores: qual estado possui os clientes com melhores pontuações de crédito?**"
      ]
    },
    {
      "cell_type": "markdown",
      "metadata": {
        "id": "Dyhy0U-5TYJM",
        "colab_type": "text"
      },
      "source": [
        "#Objetivo\n",
        "\n",
        "Queremos conhecer melhor nossos clientes por estado. Para isso, iniciamos uma análise na pontuação de crédito. Para realizar a verificação inicial, precisamos de alguns valores. Os valores são a média, a mediana, a moda e o desvio padrão da pontuação de crédito.\n",
        "\n",
        "#Tópicos\n",
        "Neste desafio você aprenderá:\n",
        "\n",
        "*   Média;\n",
        "*   Mediana;\n",
        "*   Moda;\n",
        "*   Desvio padrão.\n"
      ]
    },
    {
      "cell_type": "markdown",
      "metadata": {
        "id": "3ZXbA_JFUE7o",
        "colab_type": "text"
      },
      "source": [
        "#Detalhes\n",
        "Detalhes\n",
        "A resposta deve conter os valores da média, mediana, moda e desvio padrão da pontuação de crédito para cada estado do dataset. O arquivo para submissão deve estar em formato json, conforme o arquivo exemplo “submission.json”.\n",
        "\n",
        "OBSERVAÇÃO: É recomendado utilizar Python e pandas para esse desafio, mas também é possível utilizar outras ferramentas e linguagens de programação.\n",
        "\n",
        "Descrição dos dados: ‘id’: Identificador do cliente ‘sobrenome’: Sobrenome do cliente ‘pontuacao_credito’: Pontuação de crédito do cliente (quanto maior, melhor o cliente geralmente) ‘estado_residencia’: Estado de residência do cliente ‘genero’: Gênero do cliente ‘nivel_estabilidade’: Nível de estabilidade do cliente ‘saldo_conta’: Saldo disponível na conta do cliente ‘numero_produtos’: Número de produtos que o cliente consome ‘possui_cartao_de_credito’: Possui um cartão de crédito cadastrado ‘membro_ativo’: Membro acessa e consome frequentemente\n",
        "\n",
        "Obs: Os dados são fictícios, mas tentam representar a realidade de uma base de clientes de um produto SaaS."
      ]
    },
    {
      "cell_type": "code",
      "metadata": {
        "id": "YUUbre0Q1s0F",
        "colab_type": "code",
        "colab": {}
      },
      "source": [
        "import pandas as pd\n",
        "import numpy as np\n",
        "import json"
      ],
      "execution_count": 0,
      "outputs": []
    },
    {
      "cell_type": "code",
      "metadata": {
        "id": "9MyQEUCP22ex",
        "colab_type": "code",
        "colab": {}
      },
      "source": [
        "df = pd.read_csv('desafio1.csv')\n"
      ],
      "execution_count": 0,
      "outputs": []
    },
    {
      "cell_type": "code",
      "metadata": {
        "id": "0QI-t5WU27I4",
        "colab_type": "code",
        "outputId": "91fc2415-11d6-456c-ac75-0cf4aa9ec24a",
        "colab": {
          "base_uri": "https://localhost:8080/",
          "height": 224
        }
      },
      "source": [
        "df.head()"
      ],
      "execution_count": 0,
      "outputs": [
        {
          "output_type": "execute_result",
          "data": {
            "text/html": [
              "<div>\n",
              "<style scoped>\n",
              "    .dataframe tbody tr th:only-of-type {\n",
              "        vertical-align: middle;\n",
              "    }\n",
              "\n",
              "    .dataframe tbody tr th {\n",
              "        vertical-align: top;\n",
              "    }\n",
              "\n",
              "    .dataframe thead th {\n",
              "        text-align: right;\n",
              "    }\n",
              "</style>\n",
              "<table border=\"1\" class=\"dataframe\">\n",
              "  <thead>\n",
              "    <tr style=\"text-align: right;\">\n",
              "      <th></th>\n",
              "      <th>RowNumber</th>\n",
              "      <th>id</th>\n",
              "      <th>sobrenome</th>\n",
              "      <th>pontuacao_credito</th>\n",
              "      <th>estado_residencia</th>\n",
              "      <th>genero</th>\n",
              "      <th>idade</th>\n",
              "      <th>nivel_estabilidade</th>\n",
              "      <th>saldo_conta</th>\n",
              "      <th>numero_produtos</th>\n",
              "      <th>possui_cartao_de_credito</th>\n",
              "      <th>membro_ativo</th>\n",
              "    </tr>\n",
              "  </thead>\n",
              "  <tbody>\n",
              "    <tr>\n",
              "      <th>0</th>\n",
              "      <td>1</td>\n",
              "      <td>e7f44fcbd380d4cef7e6c232cc7e37895c3fd197</td>\n",
              "      <td>6d6e0aa1b9b413e442e2fb68df14b4fc3f91de50</td>\n",
              "      <td>619</td>\n",
              "      <td>SC</td>\n",
              "      <td>F</td>\n",
              "      <td>42</td>\n",
              "      <td>2</td>\n",
              "      <td>0.00</td>\n",
              "      <td>1</td>\n",
              "      <td>1</td>\n",
              "      <td>1</td>\n",
              "    </tr>\n",
              "    <tr>\n",
              "      <th>1</th>\n",
              "      <td>2</td>\n",
              "      <td>28dcb083ad90512da16b9430085c2cddb8ca5e12</td>\n",
              "      <td>48e1ad846796fa314f1b4a6702b83343eb5482c5</td>\n",
              "      <td>608</td>\n",
              "      <td>RS</td>\n",
              "      <td>F</td>\n",
              "      <td>41</td>\n",
              "      <td>1</td>\n",
              "      <td>83807.86</td>\n",
              "      <td>1</td>\n",
              "      <td>0</td>\n",
              "      <td>1</td>\n",
              "    </tr>\n",
              "    <tr>\n",
              "      <th>2</th>\n",
              "      <td>3</td>\n",
              "      <td>774bc378f787438c9c7594e536787d07a097a54b</td>\n",
              "      <td>f2b29d5d934de615812b697132e767dea0f1e9e2</td>\n",
              "      <td>502</td>\n",
              "      <td>SC</td>\n",
              "      <td>F</td>\n",
              "      <td>42</td>\n",
              "      <td>8</td>\n",
              "      <td>159660.80</td>\n",
              "      <td>3</td>\n",
              "      <td>1</td>\n",
              "      <td>0</td>\n",
              "    </tr>\n",
              "    <tr>\n",
              "      <th>3</th>\n",
              "      <td>4</td>\n",
              "      <td>043a71326f7096de155e7f0c559dc62b5e4b7239</td>\n",
              "      <td>85d5c9da7cddd8109ad32a6c348fe2bb10bf99f2</td>\n",
              "      <td>699</td>\n",
              "      <td>SC</td>\n",
              "      <td>F</td>\n",
              "      <td>39</td>\n",
              "      <td>1</td>\n",
              "      <td>0.00</td>\n",
              "      <td>2</td>\n",
              "      <td>0</td>\n",
              "      <td>0</td>\n",
              "    </tr>\n",
              "    <tr>\n",
              "      <th>4</th>\n",
              "      <td>5</td>\n",
              "      <td>37b3bb8ca243955fb3605ec7e1c2a4607cdb3b22</td>\n",
              "      <td>ddc89c837a6933639de75f28171057060bd322df</td>\n",
              "      <td>850</td>\n",
              "      <td>RS</td>\n",
              "      <td>F</td>\n",
              "      <td>43</td>\n",
              "      <td>2</td>\n",
              "      <td>125510.82</td>\n",
              "      <td>1</td>\n",
              "      <td>1</td>\n",
              "      <td>1</td>\n",
              "    </tr>\n",
              "  </tbody>\n",
              "</table>\n",
              "</div>"
            ],
            "text/plain": [
              "   RowNumber  ... membro_ativo\n",
              "0          1  ...            1\n",
              "1          2  ...            1\n",
              "2          3  ...            0\n",
              "3          4  ...            0\n",
              "4          5  ...            1\n",
              "\n",
              "[5 rows x 12 columns]"
            ]
          },
          "metadata": {
            "tags": []
          },
          "execution_count": 25
        }
      ]
    },
    {
      "cell_type": "code",
      "metadata": {
        "id": "jyZsdJEW3X9j",
        "colab_type": "code",
        "outputId": "4daf7041-fd3a-4854-99ac-40303a0d769f",
        "colab": {
          "base_uri": "https://localhost:8080/",
          "height": 34
        }
      },
      "source": [
        "df.shape"
      ],
      "execution_count": 0,
      "outputs": [
        {
          "output_type": "execute_result",
          "data": {
            "text/plain": [
              "(7000, 12)"
            ]
          },
          "metadata": {
            "tags": []
          },
          "execution_count": 26
        }
      ]
    },
    {
      "cell_type": "code",
      "metadata": {
        "id": "85lO7mg23f3E",
        "colab_type": "code",
        "outputId": "f61cdfe6-51bc-4136-9e1d-486b5570bc57",
        "colab": {
          "base_uri": "https://localhost:8080/",
          "height": 340
        }
      },
      "source": [
        "df.info()"
      ],
      "execution_count": 0,
      "outputs": [
        {
          "output_type": "stream",
          "text": [
            "<class 'pandas.core.frame.DataFrame'>\n",
            "RangeIndex: 7000 entries, 0 to 6999\n",
            "Data columns (total 12 columns):\n",
            " #   Column                    Non-Null Count  Dtype  \n",
            "---  ------                    --------------  -----  \n",
            " 0   RowNumber                 7000 non-null   int64  \n",
            " 1   id                        7000 non-null   object \n",
            " 2   sobrenome                 7000 non-null   object \n",
            " 3   pontuacao_credito         7000 non-null   int64  \n",
            " 4   estado_residencia         7000 non-null   object \n",
            " 5   genero                    7000 non-null   object \n",
            " 6   idade                     7000 non-null   int64  \n",
            " 7   nivel_estabilidade        7000 non-null   int64  \n",
            " 8   saldo_conta               7000 non-null   float64\n",
            " 9   numero_produtos           7000 non-null   int64  \n",
            " 10  possui_cartao_de_credito  7000 non-null   int64  \n",
            " 11  membro_ativo              7000 non-null   int64  \n",
            "dtypes: float64(1), int64(7), object(4)\n",
            "memory usage: 656.4+ KB\n"
          ],
          "name": "stdout"
        }
      ]
    },
    {
      "cell_type": "code",
      "metadata": {
        "id": "-vM4m1Jd3pGu",
        "colab_type": "code",
        "outputId": "66856b58-2b1a-4f2a-b293-4418edf33dd1",
        "colab": {
          "base_uri": "https://localhost:8080/",
          "height": 297
        }
      },
      "source": [
        "df.describe().T"
      ],
      "execution_count": 0,
      "outputs": [
        {
          "output_type": "execute_result",
          "data": {
            "text/html": [
              "<div>\n",
              "<style scoped>\n",
              "    .dataframe tbody tr th:only-of-type {\n",
              "        vertical-align: middle;\n",
              "    }\n",
              "\n",
              "    .dataframe tbody tr th {\n",
              "        vertical-align: top;\n",
              "    }\n",
              "\n",
              "    .dataframe thead th {\n",
              "        text-align: right;\n",
              "    }\n",
              "</style>\n",
              "<table border=\"1\" class=\"dataframe\">\n",
              "  <thead>\n",
              "    <tr style=\"text-align: right;\">\n",
              "      <th></th>\n",
              "      <th>count</th>\n",
              "      <th>mean</th>\n",
              "      <th>std</th>\n",
              "      <th>min</th>\n",
              "      <th>25%</th>\n",
              "      <th>50%</th>\n",
              "      <th>75%</th>\n",
              "      <th>max</th>\n",
              "    </tr>\n",
              "  </thead>\n",
              "  <tbody>\n",
              "    <tr>\n",
              "      <th>RowNumber</th>\n",
              "      <td>7000.0</td>\n",
              "      <td>3500.500000</td>\n",
              "      <td>2020.870275</td>\n",
              "      <td>1.0</td>\n",
              "      <td>1750.75</td>\n",
              "      <td>3500.50</td>\n",
              "      <td>5250.250</td>\n",
              "      <td>7000.00</td>\n",
              "    </tr>\n",
              "    <tr>\n",
              "      <th>pontuacao_credito</th>\n",
              "      <td>7000.0</td>\n",
              "      <td>649.787000</td>\n",
              "      <td>97.046279</td>\n",
              "      <td>350.0</td>\n",
              "      <td>582.00</td>\n",
              "      <td>651.00</td>\n",
              "      <td>717.000</td>\n",
              "      <td>850.00</td>\n",
              "    </tr>\n",
              "    <tr>\n",
              "      <th>idade</th>\n",
              "      <td>7000.0</td>\n",
              "      <td>38.892714</td>\n",
              "      <td>10.465562</td>\n",
              "      <td>18.0</td>\n",
              "      <td>32.00</td>\n",
              "      <td>37.00</td>\n",
              "      <td>44.000</td>\n",
              "      <td>92.00</td>\n",
              "    </tr>\n",
              "    <tr>\n",
              "      <th>nivel_estabilidade</th>\n",
              "      <td>7000.0</td>\n",
              "      <td>5.010286</td>\n",
              "      <td>2.887500</td>\n",
              "      <td>0.0</td>\n",
              "      <td>3.00</td>\n",
              "      <td>5.00</td>\n",
              "      <td>7.250</td>\n",
              "      <td>10.00</td>\n",
              "    </tr>\n",
              "    <tr>\n",
              "      <th>saldo_conta</th>\n",
              "      <td>7000.0</td>\n",
              "      <td>76471.883751</td>\n",
              "      <td>62403.383911</td>\n",
              "      <td>0.0</td>\n",
              "      <td>0.00</td>\n",
              "      <td>97277.13</td>\n",
              "      <td>127537.155</td>\n",
              "      <td>250898.09</td>\n",
              "    </tr>\n",
              "    <tr>\n",
              "      <th>numero_produtos</th>\n",
              "      <td>7000.0</td>\n",
              "      <td>1.526000</td>\n",
              "      <td>0.583047</td>\n",
              "      <td>1.0</td>\n",
              "      <td>1.00</td>\n",
              "      <td>1.00</td>\n",
              "      <td>2.000</td>\n",
              "      <td>4.00</td>\n",
              "    </tr>\n",
              "    <tr>\n",
              "      <th>possui_cartao_de_credito</th>\n",
              "      <td>7000.0</td>\n",
              "      <td>0.703286</td>\n",
              "      <td>0.456842</td>\n",
              "      <td>0.0</td>\n",
              "      <td>0.00</td>\n",
              "      <td>1.00</td>\n",
              "      <td>1.000</td>\n",
              "      <td>1.00</td>\n",
              "    </tr>\n",
              "    <tr>\n",
              "      <th>membro_ativo</th>\n",
              "      <td>7000.0</td>\n",
              "      <td>0.512143</td>\n",
              "      <td>0.499888</td>\n",
              "      <td>0.0</td>\n",
              "      <td>0.00</td>\n",
              "      <td>1.00</td>\n",
              "      <td>1.000</td>\n",
              "      <td>1.00</td>\n",
              "    </tr>\n",
              "  </tbody>\n",
              "</table>\n",
              "</div>"
            ],
            "text/plain": [
              "                           count          mean  ...         75%        max\n",
              "RowNumber                 7000.0   3500.500000  ...    5250.250    7000.00\n",
              "pontuacao_credito         7000.0    649.787000  ...     717.000     850.00\n",
              "idade                     7000.0     38.892714  ...      44.000      92.00\n",
              "nivel_estabilidade        7000.0      5.010286  ...       7.250      10.00\n",
              "saldo_conta               7000.0  76471.883751  ...  127537.155  250898.09\n",
              "numero_produtos           7000.0      1.526000  ...       2.000       4.00\n",
              "possui_cartao_de_credito  7000.0      0.703286  ...       1.000       1.00\n",
              "membro_ativo              7000.0      0.512143  ...       1.000       1.00\n",
              "\n",
              "[8 rows x 8 columns]"
            ]
          },
          "metadata": {
            "tags": []
          },
          "execution_count": 28
        }
      ]
    },
    {
      "cell_type": "code",
      "metadata": {
        "id": "iEZM_GKU4DhM",
        "colab_type": "code",
        "colab": {}
      },
      "source": [
        "def resposta(dataframe):\n",
        "    estados = dataframe['estado_residencia'].unique()\n",
        "    submissao = pd.read_json('submission.json', dtype='float')\n",
        "    for i in estados:\n",
        "        estado = dataframe[(dataframe['estado_residencia'] == i) ]['pontuacao_credito']\n",
        "        submissao[i]['moda'] = estado.mode()\n",
        "        submissao[i]['mediana'] = estado.median()\n",
        "        submissao[i]['media'] = estado.mean()\n",
        "        submissao[i]['desvio_padrao'] = estado.std()\n",
        "    submissao.to_json('submission.json', double_precision=15)\n",
        "    return submissao"
      ],
      "execution_count": 0,
      "outputs": []
    },
    {
      "cell_type": "code",
      "metadata": {
        "id": "cD6lC4Nd4S3e",
        "colab_type": "code",
        "outputId": "b945bead-c54f-4dc0-c1d5-127a7c9c656e",
        "colab": {
          "base_uri": "https://localhost:8080/",
          "height": 173
        }
      },
      "source": [
        "resposta(df)"
      ],
      "execution_count": 0,
      "outputs": [
        {
          "output_type": "execute_result",
          "data": {
            "text/html": [
              "<div>\n",
              "<style scoped>\n",
              "    .dataframe tbody tr th:only-of-type {\n",
              "        vertical-align: middle;\n",
              "    }\n",
              "\n",
              "    .dataframe tbody tr th {\n",
              "        vertical-align: top;\n",
              "    }\n",
              "\n",
              "    .dataframe thead th {\n",
              "        text-align: right;\n",
              "    }\n",
              "</style>\n",
              "<table border=\"1\" class=\"dataframe\">\n",
              "  <thead>\n",
              "    <tr style=\"text-align: right;\">\n",
              "      <th></th>\n",
              "      <th>SC</th>\n",
              "      <th>RS</th>\n",
              "      <th>PR</th>\n",
              "    </tr>\n",
              "  </thead>\n",
              "  <tbody>\n",
              "    <tr>\n",
              "      <th>moda</th>\n",
              "      <td>850.000000</td>\n",
              "      <td>850.000000</td>\n",
              "      <td>850.000000</td>\n",
              "    </tr>\n",
              "    <tr>\n",
              "      <th>mediana</th>\n",
              "      <td>653.000000</td>\n",
              "      <td>650.000000</td>\n",
              "      <td>650.000000</td>\n",
              "    </tr>\n",
              "    <tr>\n",
              "      <th>media</th>\n",
              "      <td>649.537653</td>\n",
              "      <td>651.105143</td>\n",
              "      <td>648.961294</td>\n",
              "    </tr>\n",
              "    <tr>\n",
              "      <th>desvio_padrao</th>\n",
              "      <td>97.233493</td>\n",
              "      <td>95.136598</td>\n",
              "      <td>98.607186</td>\n",
              "    </tr>\n",
              "  </tbody>\n",
              "</table>\n",
              "</div>"
            ],
            "text/plain": [
              "                       SC          RS          PR\n",
              "moda           850.000000  850.000000  850.000000\n",
              "mediana        653.000000  650.000000  650.000000\n",
              "media          649.537653  651.105143  648.961294\n",
              "desvio_padrao   97.233493   95.136598   98.607186"
            ]
          },
          "metadata": {
            "tags": []
          },
          "execution_count": 34
        }
      ]
    }
  ]
}